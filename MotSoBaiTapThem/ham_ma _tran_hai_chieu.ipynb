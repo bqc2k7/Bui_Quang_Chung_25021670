{
 "cells": [
  {
   "cell_type": "markdown",
   "id": "941109bb",
   "metadata": {},
   "source": [
    "Bài 33: Tính tổng S =   1/i! (với i= 0,…., n; dùng hàm con) "
   ]
  },
  {
   "cell_type": "code",
   "execution_count": 3,
   "id": "709535fc",
   "metadata": {},
   "outputs": [
    {
     "name": "stdout",
     "output_type": "stream",
     "text": [
      "2.7166666666666663\n"
     ]
    }
   ],
   "source": [
    "def gt(n):\n",
    "    f=[1]*(n+1)\n",
    "    for i in range(1,n+1):\n",
    "        f[i]=f[i-1]*i\n",
    "    return f\n",
    "n=int(input())\n",
    "a=gt(n)\n",
    "ans=0\n",
    "for i in range(n+1):\n",
    "    ans+=(1/a[i])\n",
    "print(ans)"
   ]
  },
  {
   "cell_type": "markdown",
   "id": "7e6fea7d",
   "metadata": {},
   "source": [
    "Bài 34: Tính tổng S =   x i (với i= 1,…., n; dùng hàm con) \n"
   ]
  },
  {
   "cell_type": "code",
   "execution_count": 6,
   "id": "125a3359",
   "metadata": {},
   "outputs": [
    {
     "name": "stdout",
     "output_type": "stream",
     "text": [
      "19530\n"
     ]
    }
   ],
   "source": [
    "def tm(x,n):\n",
    "    ans=0\n",
    "    for i in range(1,n+1):\n",
    "        ans+=(x**i)\n",
    "    return ans\n",
    "x,n=map(int,input().split())\n",
    "print(tm(x,n))\n"
   ]
  },
  {
   "cell_type": "markdown",
   "id": "1855e229",
   "metadata": {},
   "source": [
    " Bài 35: Tính tổng S =\n",
    " \n",
    " i\n",
    " \n",
    " 0\n",
    " i\n",
    " ( \n",
    "1\n",
    "  \n",
    "\n",
    " 1\n",
    " i \n",
    "x\n",
    " )!\n",
    " (dùng hàm con) "
   ]
  },
  {
   "cell_type": "code",
   "execution_count": 8,
   "id": "a19e8672",
   "metadata": {},
   "outputs": [
    {
     "name": "stdout",
     "output_type": "stream",
     "text": [
      "31.039051527176525\n"
     ]
    }
   ],
   "source": [
    "def gt(n):\n",
    "    ans=1\n",
    "    if n==0:return 1\n",
    "    else:\n",
    "        for i in range(1,n+1):\n",
    "            ans*=i\n",
    "    return ans\n",
    "x,n=map(int,input().split())\n",
    "ans=0\n",
    "for i in range(n+1):\n",
    "    ans=ans+(1+x**i)/gt(1+i)\n",
    "print(ans)"
   ]
  },
  {
   "cell_type": "markdown",
   "id": "70d5ae50",
   "metadata": {},
   "source": [
    "Bài 36: Giải hệ phương  trình: Viết chương  trình  giải hệ phương  trình  tuyến  tính 2  ẩn dùng ma trận. \n",
    "a11.x + a12.y = c1 \n",
    "a21.x + a22.y = c2"
   ]
  },
  {
   "cell_type": "code",
   "execution_count": 5,
   "id": "6ea7f0e9",
   "metadata": {},
   "outputs": [
    {
     "name": "stdout",
     "output_type": "stream",
     "text": [
      "nghiem cua phuong trinh la x=0.0 va y=0.0\n"
     ]
    }
   ],
   "source": [
    "a11,a12,c1=map(int,input(\"nhap he so cua phuong trinh 1\").split())\n",
    "a21,a22,c2=map(int,input(\"nhap he so cua phuong trinh 2\").split())\n",
    "deta=a11*a22-a12*a21\n",
    "if deta==0:\n",
    "    if a11/a21==c1/c2==a12/a22:\n",
    "        print(\"phuong trinh co vo so nghiem\")\n",
    "    elif a11/a21==a12/a22!=c1/c2:\n",
    "        print(\"phương trinh vo nghiem\")\n",
    "else :\n",
    "    x=(c1*a22-a12*c2)/deta\n",
    "    y=(c1-x*a11)/a12\n",
    "    print(f\"nghiem cua phuong trinh la x={x} va y={y}\")"
   ]
  },
  {
   "cell_type": "markdown",
   "id": "caa034ca",
   "metadata": {},
   "source": [
    "Bài 37: Hãy viết chương trình nhập giá trị cho ma trận vuông cấp n.  \n",
    "a. Tính tổng các phần tử nằm trên đường chéo chính \n",
    "b.   Tính tổng bình phương các số nằm trên hàng chẵn.  \n",
    "c.   Tính tổng căn bậc hai các số không âm trên cột lẻ.  \n",
    "d.   Đếm số phần tử có giá trị trong khoảng [1..5]"
   ]
  },
  {
   "cell_type": "code",
   "execution_count": null,
   "id": "678155a7",
   "metadata": {},
   "outputs": [
    {
     "name": "stdout",
     "output_type": "stream",
     "text": [
      "1 2 3 \n",
      "4 5 6 \n",
      "7 8 9 \n",
      "15 208 6.4787086646190755 5\n"
     ]
    }
   ],
   "source": [
    "from math import sqrt\n",
    "n = int(input())\n",
    "a = [[0] * (n) for _ in range(n+1)]\n",
    "ca = cb = cc = cd = 0\n",
    "for i in range(n):\n",
    "    for j in range(n):\n",
    "        a[i][j] = int(input())\n",
    "        if i == j:\n",
    "            ca += a[i][j]\n",
    "        if i % 2 == 0:\n",
    "            cb += a[i][j] ** 2\n",
    "        if j % 2 == 1 and a[i][j] > 0:\n",
    "            cc += sqrt(a[i][j])\n",
    "        if a[i][j] in (1, 2, 3, 4, 5):\n",
    "            cd += 1\n",
    "        print(a[i][j], end=' ')\n",
    "    print()\n",
    "print(ca, cb, cc, cd)\n",
    "\n",
    "\n"
   ]
  },
  {
   "cell_type": "markdown",
   "id": "fbcefb41",
   "metadata": {},
   "source": [
    "Bài 38: Viết chương trình nhập vào một ma trân,  tính tổng bình phương của các số âm trong ma trận trên. "
   ]
  },
  {
   "cell_type": "code",
   "execution_count": null,
   "id": "8542d435",
   "metadata": {},
   "outputs": [
    {
     "name": "stdout",
     "output_type": "stream",
     "text": [
      "30\n"
     ]
    }
   ],
   "source": [
    "n=int(input())\n",
    "a=[[int(input(f\"a[{i+1}][{j+1}]=\"))for j in range(n)] for i in range(n)]\n",
    "ans=0\n",
    "for i in range(n):\n",
    "    for j in range(n):\n",
    "        if a[i][j]<0:\n",
    "            ans=ans+(a[i][j])**2\n",
    "print(ans)           "
   ]
  },
  {
   "cell_type": "markdown",
   "id": "d4003bf4",
   "metadata": {},
   "source": [
    "Bài 39: Viết chương trình nhập vào một ma trận. In ma trận chuyển vị của nó ra \n",
    "màn hình. Ma trận B là ma trận chuyển vị của ma trận A nếu các phần tử của chúng có quan hệ B[i, j] = \n",
    "A[j, i]."
   ]
  },
  {
   "cell_type": "code",
   "execution_count": 16,
   "id": "b3cde70c",
   "metadata": {},
   "outputs": [
    {
     "name": "stdout",
     "output_type": "stream",
     "text": [
      "1 4 \n",
      "2 5 \n",
      "3 6 \n"
     ]
    }
   ],
   "source": [
    "m,n=map(int,input().split())\n",
    "a=[[int(input(f\"a[{i}][{j}]=\")) for j in range(n)]for i in range(m)]\n",
    "b=[]\n",
    "for j in range(n):\n",
    "    row=[]\n",
    "    for i in range(m):\n",
    "        row.append(a[i][j])\n",
    "    b.append(row)\n",
    "for i in range(n):\n",
    "    for j in range(m):\n",
    "        print(b[i][j],end=' ')\n",
    "    print()\n"
   ]
  },
  {
   "cell_type": "markdown",
   "id": "b95a1594",
   "metadata": {},
   "source": [
    "Bài 40 :Viết chương trình nhập vào một ma trận A vuông cấp n. Chuyển A thành chính mà trận chuyển vị \n",
    "của A (không sử dụng ma trận trung gian). "
   ]
  },
  {
   "cell_type": "code",
   "execution_count": null,
   "id": "8f50984e",
   "metadata": {},
   "outputs": [
    {
     "name": "stdout",
     "output_type": "stream",
     "text": [
      "1 4 7 \n",
      "2 5 8 \n",
      "3 6 9 \n"
     ]
    }
   ],
   "source": [
    "n=int(input())\n",
    "a=[[int(input(f\"a[{i}][{j}]=\")) for j in range(n)] for i in range(n)]\n",
    "for i in range(n):\n",
    "    for j in range(i+1,n):\n",
    "        a[i][j],a[j][i]=a[j][i],a[i][j]\n",
    "        # a,b=b,a doi cho a cho b va b cho a\n",
    "for i in range(n):\n",
    "    for j in range(n):\n",
    "        print(a[i][j],end=' ')\n",
    "    print()\n"
   ]
  },
  {
   "cell_type": "markdown",
   "id": "9bc7fb82",
   "metadata": {},
   "source": [
    "Bài 41:   Viết chương trình nhập vào một dãy số nguyên   có n phần tử. In ra màn hình phần tử nhỏ nhất, phần \n",
    "tử lớn nhất và giá trị trung bình của danh sách ra màn hình."
   ]
  },
  {
   "cell_type": "code",
   "execution_count": 23,
   "id": "900f134d",
   "metadata": {},
   "outputs": [
    {
     "name": "stdout",
     "output_type": "stream",
     "text": [
      "so lon nhat trong day là 5,so nho nhat la 1, gia tri trung binh cua day la 3.0\n"
     ]
    }
   ],
   "source": [
    "n=int(input())\n",
    "a=[int(input()) for i in range(n)]\n",
    "Min=Max=a[0]\n",
    "sum=0\n",
    "for i in a:\n",
    "    sum+=i\n",
    "    Min=min(Min,i)\n",
    "    Max=max(Max,i)\n",
    "print(f\"so lon nhat trong day là {Max},so nho nhat la {Min}, gia tri trung binh cua day la {sum/len(a)}\")\n"
   ]
  },
  {
   "cell_type": "markdown",
   "id": "8b38461d",
   "metadata": {},
   "source": [
    "Bài 42:  Viết chương trình nhập vào một dãy số nguyên có n phần tử. \n",
    "a.   Đưa những phần tử lẻ ra đầu danh sách, những phần tử chẵn về cuối danh sách và in kết quả ra màn \n",
    "hình. \n",
    "b.   Sắp xếp các phần tử lẻ đầu danh sách theo thứ tứ tăng dần, sắp xếp các phần tử \n",
    "chẵn cuối danh sách theo thứ tự giảm dần. In danh sách ra màn hình."
   ]
  },
  {
   "cell_type": "code",
   "execution_count": 6,
   "id": "824f1be4",
   "metadata": {},
   "outputs": [
    {
     "name": "stdout",
     "output_type": "stream",
     "text": [
      "1 3 5 7 9 0 2 4 6 8 "
     ]
    }
   ],
   "source": [
    "n=int(input())\n",
    "a=[int(input()) for i in range(n)]\n",
    "chan=[]\n",
    "le=[]\n",
    "for i in range(n):\n",
    "    if i%2==0:\n",
    "        chan.append(a[i])\n",
    "    else: le.append(a[i])\n",
    "ca=le+chan\n",
    "for i in range(n):\n",
    "    print(ca[i],end=' ')\n",
    "\n"
   ]
  },
  {
   "cell_type": "markdown",
   "id": "fb229a40",
   "metadata": {},
   "source": [
    "b.   Sắp xếp các phần tử lẻ đầu danh sách theo thứ tứ tăng dần, sắp xếp các phần tử \n",
    "chẵn cuối danh sách theo thứ tự giảm dần. In danh sách ra màn hình."
   ]
  },
  {
   "cell_type": "code",
   "execution_count": 12,
   "id": "a6b28cae",
   "metadata": {},
   "outputs": [
    {
     "name": "stdout",
     "output_type": "stream",
     "text": [
      "1 3 5 7 9 0 2 4 6 8 "
     ]
    }
   ],
   "source": [
    "n=int(input())\n",
    "a=[int(input()) for i in range(n)]\n",
    "chan=[]\n",
    "le=[]\n",
    "for i in a:\n",
    "    if i%2==0:\n",
    "        chan.append(i)\n",
    "    else: le.append(i)\n",
    "chan.sort()\n",
    "le.sort()\n",
    "b=le+chan\n",
    "for i in b:print(i,end=' ')"
   ]
  },
  {
   "cell_type": "markdown",
   "id": "41c89641",
   "metadata": {},
   "source": [
    "Bài 43: Chuyển 1 số từ hệ thập phân sang nhị phân. "
   ]
  },
  {
   "cell_type": "code",
   "execution_count": 24,
   "id": "09eb37d7",
   "metadata": {},
   "outputs": [
    {
     "name": "stdout",
     "output_type": "stream",
     "text": [
      "1000\n"
     ]
    }
   ],
   "source": [
    "def cv(n):\n",
    "    if n==0 or n==1:\n",
    "        return n\n",
    "    else:\n",
    "        ans=\"\"\n",
    "        while n>0:\n",
    "            ans=str(n%2)+ans\n",
    "            n//=2\n",
    "        return ans\n",
    "n=int(input())\n",
    "print(cv(n))"
   ]
  },
  {
   "cell_type": "markdown",
   "id": "5d0a5b9e",
   "metadata": {},
   "source": [
    "Bài 44: Chuyển 1 số từ hệ thập phân sang bát phân. \n"
   ]
  },
  {
   "cell_type": "code",
   "execution_count": 29,
   "id": "35b6efc0",
   "metadata": {},
   "outputs": [
    {
     "name": "stdout",
     "output_type": "stream",
     "text": [
      "12\n"
     ]
    }
   ],
   "source": [
    "def cv(n):\n",
    "    if n==0: return n\n",
    "    else:\n",
    "        s=''\n",
    "        while n>0:\n",
    "            s=str(n%8)+s\n",
    "            n//=8\n",
    "        return s\n",
    "n=int(input())\n",
    "print(cv(n))"
   ]
  }
 ],
 "metadata": {
  "kernelspec": {
   "display_name": "Python 3",
   "language": "python",
   "name": "python3"
  },
  "language_info": {
   "codemirror_mode": {
    "name": "ipython",
    "version": 3
   },
   "file_extension": ".py",
   "mimetype": "text/x-python",
   "name": "python",
   "nbconvert_exporter": "python",
   "pygments_lexer": "ipython3",
   "version": "3.13.7"
  }
 },
 "nbformat": 4,
 "nbformat_minor": 5
}
