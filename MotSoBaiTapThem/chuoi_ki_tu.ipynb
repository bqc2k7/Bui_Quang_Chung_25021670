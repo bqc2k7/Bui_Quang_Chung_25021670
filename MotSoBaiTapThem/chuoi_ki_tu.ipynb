{
 "cells": [
  {
   "cell_type": "markdown",
   "id": "9ce8cdc1",
   "metadata": {},
   "source": [
    "Bài 45: Viết chương trình nhập vào một chuỗi kí tự, sau đó nhập vào một kí tự bất kì và \n",
    "đếm số lần của nó trong chuỗi đã nhập.  "
   ]
  },
  {
   "cell_type": "code",
   "execution_count": 2,
   "id": "1c5d28ab",
   "metadata": {},
   "outputs": [
    {
     "name": "stdout",
     "output_type": "stream",
     "text": [
      "5\n"
     ]
    }
   ],
   "source": [
    "s=str(input())\n",
    "x=str(input())\n",
    "count=0\n",
    "for i in s:\n",
    "    if x==i:\n",
    "        count+=1\n",
    "print(count)"
   ]
  },
  {
   "cell_type": "markdown",
   "id": "cb5796ad",
   "metadata": {},
   "source": [
    "Bài 46: Viết chương trình nhập vào một chuỗi ký tự, Kiểm tra xem nó có đối xứng hay không (Ví dụ: Chuỗi \n",
    "đối xứng RADAR, MADAM). Làm bằng nhiều cách nhất có thể "
   ]
  },
  {
   "cell_type": "code",
   "execution_count": 11,
   "id": "14c26fe2",
   "metadata": {},
   "outputs": [
    {
     "name": "stdout",
     "output_type": "stream",
     "text": [
      "la ma tran doi xung\n"
     ]
    }
   ],
   "source": [
    "s=str(input())\n",
    "n=len(s)\n",
    "check=1\n",
    "for i in range(n):\n",
    "    if s[i]!=s[n-i-1]:\n",
    "        check=0\n",
    "        break\n",
    "if check==1:print(\"la ma tran doi xung\")\n",
    "else: print(\"khong la ma tran doi xung\")"
   ]
  },
  {
   "cell_type": "markdown",
   "id": "6e8dd3a1",
   "metadata": {},
   "source": [
    "Bài 47: Viết chương trình nhập vào họ tên đầy đủ của một người. Tách và in tên của người đó ra. \n"
   ]
  },
  {
   "cell_type": "code",
   "execution_count": 20,
   "id": "6beafb83",
   "metadata": {},
   "outputs": [
    {
     "name": "stdout",
     "output_type": "stream",
     "text": [
      "ten nguoi do la chung\n"
     ]
    }
   ],
   "source": [
    "s=str(input())\n",
    "n=len(s)\n",
    "check=1\n",
    "for i in range(n):\n",
    "    if s[n-1-i]==' ':\n",
    "        ten=''\n",
    "        check=0\n",
    "        for j in range(n-i,n):\n",
    "            ten+=s[j]\n",
    "        print(\"ten nguoi do la \" +ten)\n",
    "        break\n",
    "if check==1:\n",
    "    print(\"ten nguoi do la \" + s)\n",
    "        "
   ]
  },
  {
   "cell_type": "markdown",
   "id": "373203d3",
   "metadata": {},
   "source": [
    "More:  \n",
    "1.Nhập vào n họ tên người, Tìm và in ra tên người hay gặp nhất (Tên đúng chuẩn viết hoa chữ cái đầu từ) \n",
    "2. Đếm số lượng Tên trong một xâu kí tự, Tên hợp lệ là từ có độ dài >=2 và có viết hoa đầu từ \n",
    "3. Cho xâu kí tự, xóa các từ giống nhau liền kề, chỉ giữ lại từ đầu tiên VD: “Toi toi di di di hoc rat rat vui, \n",
    "hoc hoc rat rat rat hay hay hay” => “Toi di hoc rat vui, hoc rat hay” \n",
    "4. Viết chương trình đảo ngược một chuỗi \n",
    "5. Viết chương trình đảo ngược thứ tự các từ trong chuỗi (VD: “con bo an co” => “co an bo con”) "
   ]
  },
  {
   "cell_type": "code",
   "execution_count": 37,
   "id": "b7a6eace",
   "metadata": {},
   "outputs": [
    {
     "name": "stdout",
     "output_type": "stream",
     "text": [
      "ten nguoi hay gap nhat la Chung va Tuyet va Quan voi so lan gap la 1\n"
     ]
    }
   ],
   "source": [
    "def tach_ten(s):\n",
    "    n=len(s)\n",
    "    for i in range(n):\n",
    "        if s[n-1-i]==' ':\n",
    "            ten=s[n-i].upper()\n",
    "            for j in range(n-i+1,n):\n",
    "                ten+=s[j]\n",
    "            return ten\n",
    "    ten=s[0].upper()\n",
    "    for i in range(1,n):\n",
    "        ten+=s[i]\n",
    "    return ten\n",
    "n=int(input())\n",
    "a=[str(input()) for i in range(n)]\n",
    "dem_ten={}\n",
    "for i in a:\n",
    "    x=tach_ten(i)\n",
    "    dem_ten[x]=dem_ten.get(x,0)+1\n",
    "ten=''\n",
    "count=-1\n",
    "for k,v in dem_ten.items():\n",
    "     if v>count:\n",
    "         count=v\n",
    "         ten=k\n",
    "ds=[]\n",
    "ds.append(ten)\n",
    "for k,v in dem_ten.items():\n",
    "    if v==count and ten!=k:\n",
    "        ds.append(k)\n",
    "print(\"ten nguoi hay gap nhat la \",end='')\n",
    "x=len(ds)\n",
    "for i in range(x):\n",
    "    if i!=x-1:\n",
    "        print(ds[i],end=\" va \")\n",
    "    else: print(ds[i]+\" voi so lan gap la \" + str(count))\n",
    "\n"
   ]
  },
  {
   "cell_type": "markdown",
   "id": "0bf33c60",
   "metadata": {},
   "source": [
    "2. Đếm số lượng Tên trong một xâu kí tự, Tên hợp lệ là từ có độ dài >=2 và có viết hoa đầu từ \n"
   ]
  },
  {
   "cell_type": "code",
   "execution_count": 61,
   "id": "5cdb6ec2",
   "metadata": {},
   "outputs": [
    {
     "name": "stdout",
     "output_type": "stream",
     "text": [
      "0\n"
     ]
    }
   ],
   "source": [
    "s=str(input())\n",
    "a=[]\n",
    "n=len(s)\n",
    "for i in range(n):\n",
    "    if s[i].isupper()==True:\n",
    "        a.append(i)\n",
    "x=len(a)\n",
    "ans=0\n",
    "if x==1:\n",
    "    ans=n-1-a[0]\n",
    "elif x==0 :\n",
    "    ans=0\n",
    "else:\n",
    "    ans=n-1-a[x-1]\n",
    "    for i in range(x-1):\n",
    "        if a[i+1]-a[i]>1:\n",
    "            ans+=(a[i+1]-a[i]-1)\n",
    "print(ans)"
   ]
  },
  {
   "cell_type": "markdown",
   "id": "567c7a83",
   "metadata": {},
   "source": [
    "3. Cho xâu kí tự, xóa các từ giống nhau liền kề, chỉ giữ lại từ đầu tiên VD: “Toi toi di di di hoc rat rat vui, \n",
    "hoc hoc rat rat rat hay hay hay” => “Toi di hoc rat vui, hoc rat hay” "
   ]
  },
  {
   "cell_type": "code",
   "execution_count": null,
   "id": "e55cfa9d",
   "metadata": {},
   "outputs": [
    {
     "name": "stdout",
     "output_type": "stream",
     "text": [
      "Toi di hoc rat vui, hoc rat hay "
     ]
    }
   ],
   "source": [
    "s=str(input())\n",
    "n=s.split()\n",
    "# print(len(n))\n",
    "a=''\n",
    "ans=''\n",
    "j=0\n",
    "for i in n:\n",
    "    i=i.lower()\n",
    "    if a!=i:\n",
    "        if j == 0:\n",
    "            print(i.title(),end=' ')\n",
    "            a=i\n",
    "            j+=1\n",
    "        else :\n",
    "            print(i,end=' ')\n",
    "            a=i\n",
    "\n"
   ]
  },
  {
   "cell_type": "markdown",
   "id": "dfa1a998",
   "metadata": {},
   "source": [
    "4. Viết chương trình đảo ngược một chuỗi "
   ]
  },
  {
   "cell_type": "code",
   "execution_count": 17,
   "id": "b6356156",
   "metadata": {},
   "outputs": [
    {
     "name": "stdout",
     "output_type": "stream",
     "text": [
      "4321\n"
     ]
    }
   ],
   "source": [
    "s=input()\n",
    "ans=''\n",
    "for i in s:\n",
    "    ans=i+ans\n",
    "print(ans)"
   ]
  },
  {
   "cell_type": "markdown",
   "id": "5b5f245b",
   "metadata": {},
   "source": [
    "5. Viết chương trình đảo ngược thứ tự các từ trong chuỗi (VD: “con bo an co” => “co an bo con”) "
   ]
  },
  {
   "cell_type": "code",
   "execution_count": 29,
   "id": "b03ee7fc",
   "metadata": {},
   "outputs": [
    {
     "name": "stdout",
     "output_type": "stream",
     "text": [
      "co an bo con\n"
     ]
    }
   ],
   "source": [
    "s=str(input())\n",
    "n=s.split()\n",
    "j=0\n",
    "ans=''\n",
    "for i in n:\n",
    "    ans=i+ ' ' +ans\n",
    "    # ans=' ' + ans\n",
    "print(ans.strip())"
   ]
  },
  {
   "cell_type": "markdown",
   "id": "cb5ee6e9",
   "metadata": {},
   "source": [
    "Bài 48: Viết chương trình nhập vào một chuỗi ký tự . Sau đó in chuỗi ra màn hình với các ký tự đầu đổi thành chữ \n",
    "thường, các ký tự cuối của từ trong chuỗi sang chữ hoa"
   ]
  },
  {
   "cell_type": "code",
   "execution_count": 30,
   "id": "c7e267a3",
   "metadata": {},
   "outputs": [
    {
     "name": "stdout",
     "output_type": "stream",
     "text": [
      "buI quanG chunG "
     ]
    }
   ],
   "source": [
    "s=input()\n",
    "n=s.split()\n",
    "for i in n:\n",
    "    a=''\n",
    "    x=len(i)\n",
    "    for j in range(x):\n",
    "        if j==0:\n",
    "            a=a+i[j].lower()\n",
    "        elif j==x-1:\n",
    "            a=a+i[j].upper()\n",
    "        else: a+=i[j]\n",
    "    print(a,end=' ')"
   ]
  },
  {
   "cell_type": "markdown",
   "id": "d5acc807",
   "metadata": {},
   "source": [
    "Bài 49.1: Viết chương trình cộng hai số phức A, B. (struct) "
   ]
  },
  {
   "cell_type": "code",
   "execution_count": null,
   "id": "a5f354fb",
   "metadata": {},
   "outputs": [
    {
     "name": "stdout",
     "output_type": "stream",
     "text": [
      "A+B=5+5i\n"
     ]
    }
   ],
   "source": [
    "a,b=map(int,input(\"nhap phan thuc va ao cua so phuc a\").split())\n",
    "x,y=map(int,input(\"nhap phan thuc va ao cua so phuc b\").split())\n",
    "print(f\"A+B={a+x}+{b+y}i\")"
   ]
  },
  {
   "cell_type": "markdown",
   "id": "12743708",
   "metadata": {},
   "source": [
    "Bài 49.2: Viết chương trình nhân hai số phức A, B. (struct) "
   ]
  },
  {
   "cell_type": "code",
   "execution_count": 33,
   "id": "e77c6524",
   "metadata": {},
   "outputs": [
    {
     "name": "stdout",
     "output_type": "stream",
     "text": [
      "AxB=0+8i\n"
     ]
    }
   ],
   "source": [
    "a,b=map(int,input(\"nhap phan thuc va ao cua so phuc a\").split())\n",
    "x,y=map(int,input(\"nhap phan thuc va ao cua so phuc b\").split())\n",
    "# (a+bi)(x+yi)=ax+ayi+xbi-by\n",
    "print(f\"AxB={a*x-b*y}+{a*y+x*b}i\")"
   ]
  },
  {
   "cell_type": "markdown",
   "id": "301bd9fa",
   "metadata": {},
   "source": [
    "Bài 50. Viết chương trình đọc vào hai đa thức. Thực hiện phép cộng hai đa thức rồi in kết quả ra màn hình. "
   ]
  },
  {
   "cell_type": "code",
   "execution_count": null,
   "id": "fb10590c",
   "metadata": {},
   "outputs": [
    {
     "name": "stdout",
     "output_type": "stream",
     "text": [
      "4-2x+x^2+2x^3"
     ]
    }
   ],
   "source": [
    "ba=int(input(\"nhap bac cua da thuc thu nhat\"))\n",
    "a=[int(input()) for i in range(ba+1)]\n",
    "bb=int(input(\"nhap bac cua da thuc thu hai\"))        \n",
    "b=[int(input()) for i in range(bb+1)]\n",
    "if len(a)>len(b):\n",
    "    b=b+[0]*(len(a)-len(b))\n",
    "else:\n",
    "    a=a+[0]*(len(b)-len(a))\n",
    "for i in range(max(len(a),len(b))):\n",
    "    hs=a[i]+b[i]\n",
    "    if hs>0:\n",
    "        if i==0:\n",
    "            print(f\"{hs}\",end='')\n",
    "        elif i==1:\n",
    "            if hs==1:\n",
    "                print(f\"+x\",end='')\n",
    "            else:\n",
    "                print(f\"+{a[i]+b[i]}x\",end='')\n",
    "        else:\n",
    "            if hs==1:\n",
    "                print(f\"+x^{i}\",end='')\n",
    "            else:\n",
    "                print(f\"+{a[i]+b[i]}x^{i}\",end='')\n",
    "    elif hs<0:\n",
    "        if i==0:\n",
    "            print(f\"{hs}\",end='')\n",
    "        elif i==1:\n",
    "            if hs==-1:\n",
    "                print(f\"-x\",end='')\n",
    "            else:\n",
    "                print(f\"{hs}x\",end='')\n",
    "        else:\n",
    "            if hs==-1:\n",
    "                print(f\"-x^{i}\",end='')\n",
    "            else:\n",
    "                print(f\"{hs}x^{i}\",end='')"
   ]
  },
  {
   "cell_type": "markdown",
   "id": "78f445f1",
   "metadata": {},
   "source": [
    "Bài 50.2: Viết CT đọc 1 số nguyên <= 9 tỉ "
   ]
  },
  {
   "cell_type": "code",
   "execution_count": 10,
   "id": "1b07624a",
   "metadata": {},
   "outputs": [
    {
     "name": "stdout",
     "output_type": "stream",
     "text": [
      "âm một nghìn một\n"
     ]
    }
   ],
   "source": [
    "def doc3so(n):\n",
    "    cs=[\"không\",\"một\",\"hai\",\"ba\",\"bốn\",\"năm\",\"sáu\",\"bảy\",\"tám\",\"chín\"]\n",
    "    dv=n%10\n",
    "    n=n//10\n",
    "    chuc=n%10\n",
    "    tram=n//10\n",
    "    ans=''\n",
    "    if tram!=0:\n",
    "       ans+=cs[tram]+' trăm'\n",
    "       if chuc==0 and dv!=0:\n",
    "           ans+=' linh'\n",
    "    if chuc!=0:\n",
    "        if chuc==1:\n",
    "            ans=ans+' mười'\n",
    "            if dv==5:\n",
    "                ans+=' lăm'\n",
    "            if dv==0:\n",
    "                ans+=' '\n",
    "            else:\n",
    "                ans+=' '+cs[dv]\n",
    "        else:\n",
    "            ans+=' '+cs[chuc]+\" mươi\"\n",
    "            if dv==1:\n",
    "                ans+=' mốt'\n",
    "            elif dv==5:\n",
    "                ans+=' lăm'\n",
    "            elif dv==4:\n",
    "                ans+=' tư'\n",
    "            elif dv==0:\n",
    "                ans+=' '\n",
    "            else:\n",
    "                ans+=' '+cs[dv]\n",
    "    elif chuc==0 and tram==0:\n",
    "        if dv!=0:\n",
    "            ans+=' '+ cs[dv]\n",
    "    elif chuc==0:\n",
    "        if dv!=0:\n",
    "            ans+=' '+cs[dv]\n",
    "    return ans.strip()\n",
    "\n",
    "def doc_so(n):\n",
    "    if n == 0:\n",
    "        return \"không\"\n",
    "    if n < 0:\n",
    "        return \"âm \" + doc_so(-n)\n",
    "\n",
    "    don_vi = [\"\", \" nghìn\", \" triệu\", \" tỷ\"]\n",
    "    parts = []\n",
    "    i = 0\n",
    "    while n > 0:\n",
    "        nhom = n % 1000\n",
    "        if nhom != 0:\n",
    "            phan = doc3so(nhom) + don_vi[i]\n",
    "            parts.insert(0, phan)\n",
    "        n //= 1000\n",
    "        i += 1\n",
    "\n",
    "    return \" \".join(parts).strip()\n",
    "\n",
    "x = int(input(\"Nhập số nguyên ≤ 9 tỉ: \"))\n",
    "print(doc_so(x))\n"
   ]
  }
 ],
 "metadata": {
  "kernelspec": {
   "display_name": "Python 3",
   "language": "python",
   "name": "python3"
  },
  "language_info": {
   "codemirror_mode": {
    "name": "ipython",
    "version": 3
   },
   "file_extension": ".py",
   "mimetype": "text/x-python",
   "name": "python",
   "nbconvert_exporter": "python",
   "pygments_lexer": "ipython3",
   "version": "3.13.7"
  }
 },
 "nbformat": 4,
 "nbformat_minor": 5
}
