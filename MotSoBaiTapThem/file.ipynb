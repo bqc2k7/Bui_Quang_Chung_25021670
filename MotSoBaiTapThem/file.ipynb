{
 "cells": [
  {
   "cell_type": "markdown",
   "id": "e6c05a96",
   "metadata": {},
   "source": [
    "Bài 59.  Viết chương trình nhập  vào  một file  số  nguyên. In  file  số nguyên  này ra màn hình. "
   ]
  },
  {
   "cell_type": "code",
   "execution_count": null,
   "id": "c223dcf9",
   "metadata": {},
   "outputs": [
    {
     "name": "stdout",
     "output_type": "stream",
     "text": [
      "1 3 100 \n"
     ]
    }
   ],
   "source": [
    "with open(\"input.txt\",'r') as s:\n",
    "    a=s.read()\n",
    "print(a)\n"
   ]
  },
  {
   "cell_type": "markdown",
   "id": "e9612007",
   "metadata": {},
   "source": [
    "Bài 60: Mở một file số nguyên đã có trên đĩa, sao chép nội dung của nó sang một tập tin mới và in nội dung \n",
    "của tập tin sau khi sao chép ra màn hình."
   ]
  },
  {
   "cell_type": "code",
   "execution_count": 78,
   "id": "4a5a53ea",
   "metadata": {},
   "outputs": [
    {
     "name": "stdout",
     "output_type": "stream",
     "text": [
      "1 3 100 123213 123213213 100\n",
      "\n",
      "\n"
     ]
    }
   ],
   "source": [
    "with open(\"input.txt\",'r') as f,\\\n",
    "     open(\"output.txt\",'w+') as f1:\n",
    "    s=f.read()\n",
    "    f1.write(s)\n",
    "    f1.seek(0)\n",
    "    a=f1.read()\n",
    "print(a)\n"
   ]
  },
  {
   "cell_type": "markdown",
   "id": "b1869e99",
   "metadata": {},
   "source": [
    "Bài 61. Viết  chương trình tạo ra một file F3 chứa các số nguyên bằng cách nối hai file số \n",
    "nguyên F1 và F2 đã có trên đĩa. In nội dung của cả 3 tập tin trên ra màn hình. "
   ]
  },
  {
   "cell_type": "code",
   "execution_count": 79,
   "id": "669fa8dc",
   "metadata": {},
   "outputs": [
    {
     "name": "stdout",
     "output_type": "stream",
     "text": [
      "1 3 100 123213 123213213 100\n",
      "\n",
      "1 3 100 123213 123213213 100\n",
      "\n",
      "\n"
     ]
    }
   ],
   "source": [
    "with open(\"input.txt\",'r') as f,\\\n",
    "    open(\"output.txt\",'r') as f2,\\\n",
    "    open(\"total.txt\",'w+') as f3:\n",
    "    s1=f.read()\n",
    "    s2=f2.read()\n",
    "    s=s1+s2\n",
    "    f3.write(s)\n",
    "    f3.seek(0)\n",
    "    a=f3.read()\n",
    "print(a)"
   ]
  }
 ],
 "metadata": {
  "kernelspec": {
   "display_name": "Python 3",
   "language": "python",
   "name": "python3"
  },
  "language_info": {
   "codemirror_mode": {
    "name": "ipython",
    "version": 3
   },
   "file_extension": ".py",
   "mimetype": "text/x-python",
   "name": "python",
   "nbconvert_exporter": "python",
   "pygments_lexer": "ipython3",
   "version": "3.13.7"
  }
 },
 "nbformat": 4,
 "nbformat_minor": 5
}
