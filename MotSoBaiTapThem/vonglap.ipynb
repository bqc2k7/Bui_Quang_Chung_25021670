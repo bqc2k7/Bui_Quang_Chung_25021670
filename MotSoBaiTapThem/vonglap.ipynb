{
 "cells": [
  {
   "cell_type": "markdown",
   "id": "38b7e43d",
   "metadata": {},
   "source": [
    "Bài 13: Tính n! "
   ]
  },
  {
   "cell_type": "code",
   "execution_count": 1,
   "id": "99be3d4a",
   "metadata": {},
   "outputs": [
    {
     "name": "stdout",
     "output_type": "stream",
     "text": [
      "6\n"
     ]
    }
   ],
   "source": [
    "n=int(input())\n",
    "gt=1\n",
    "for i in range(1,n+1):\n",
    "    gt*=i\n",
    "print(gt)"
   ]
  },
  {
   "cell_type": "markdown",
   "id": "668387cc",
   "metadata": {},
   "source": [
    "Bài 14: Tính x^n (Với n là số nguyên không âm).  \n"
   ]
  },
  {
   "cell_type": "code",
   "execution_count": 1,
   "id": "23a8468f",
   "metadata": {},
   "outputs": [
    {
     "name": "stdout",
     "output_type": "stream",
     "text": [
      "8\n"
     ]
    }
   ],
   "source": [
    "x,n=map(int,input().split())\n",
    "print(x**n)"
   ]
  },
  {
   "cell_type": "markdown",
   "id": "f0a4008d",
   "metadata": {},
   "source": [
    "n \n",
    "Bài 15: Tính tổng S =   1 \n",
    "i=0  i!"
   ]
  },
  {
   "cell_type": "code",
   "execution_count": 5,
   "id": "483bebab",
   "metadata": {},
   "outputs": [
    {
     "name": "stdout",
     "output_type": "stream",
     "text": [
      "2.6666666666666665\n"
     ]
    }
   ],
   "source": [
    "def gt(x):\n",
    "    if x==0: return 1\n",
    "    else:\n",
    "        ans=1\n",
    "        for i in range(1,x+1):\n",
    "            ans*=i\n",
    "        return ans\n",
    "n=int(input())\n",
    "ans=0\n",
    "for i in range(n+1):\n",
    "    ans=ans+1/(gt(i))\n",
    "print(ans)"
   ]
  },
  {
   "cell_type": "markdown",
   "id": "de9a7830",
   "metadata": {},
   "source": [
    "n \n",
    "Bài 16: Tính tổng S =   x i \n",
    "i=1 "
   ]
  },
  {
   "cell_type": "code",
   "execution_count": 7,
   "id": "602d8183",
   "metadata": {},
   "outputs": [
    {
     "name": "stdout",
     "output_type": "stream",
     "text": [
      "363\n"
     ]
    }
   ],
   "source": [
    "n,x=map(int,input().split())\n",
    "ans=0\n",
    "for i in range(1,n+1):\n",
    "    ans+=x**i\n",
    "print (ans)"
   ]
  },
  {
   "cell_type": "markdown",
   "id": "1c2020f6",
   "metadata": {},
   "source": [
    "n \n",
    "Bài 17: Tính tổng S =   x   \n",
    "i= 0    i!  "
   ]
  },
  {
   "cell_type": "code",
   "execution_count": 11,
   "id": "13217ee4",
   "metadata": {},
   "outputs": [
    {
     "name": "stdout",
     "output_type": "stream",
     "text": [
      "8.15\n"
     ]
    }
   ],
   "source": [
    "def gt(x):\n",
    "    ans=1\n",
    "    if x==0:\n",
    "        return 1\n",
    "    else:\n",
    "        for i in range(1,x+1):\n",
    "            ans*=i\n",
    "        return ans\n",
    "x,n=map(int,input().split())\n",
    "ans=0\n",
    "for i in range(n+1):\n",
    "    ans=ans+x/gt(i)\n",
    "print(ans)"
   ]
  },
  {
   "cell_type": "markdown",
   "id": "c51d5dd4",
   "metadata": {},
   "source": [
    "Bài 18: Tìm tất cả các chữ số có ba chữ số  abc sao cho tổng các lập phương của các chữ số thì bằng chính số \n",
    "đó ( abc = a3 + b3 + c3)."
   ]
  },
  {
   "cell_type": "code",
   "execution_count": 13,
   "id": "22a83f89",
   "metadata": {},
   "outputs": [
    {
     "name": "stdout",
     "output_type": "stream",
     "text": [
      "153\n",
      "370\n",
      "371\n",
      "407\n"
     ]
    }
   ],
   "source": [
    "def tlp(n):\n",
    "    sum=0\n",
    "    while n>0:\n",
    "        a=n%10\n",
    "        sum=sum+a**3\n",
    "        n//=10\n",
    "    return sum\n",
    "for i in range(100,1000):\n",
    "    if tlp(i)==i:\n",
    "        print(i)\n",
    "    \n"
   ]
  },
  {
   "cell_type": "markdown",
   "id": "209ef662",
   "metadata": {},
   "source": [
    "Bài 19: Nhập vào một số nguyên không âm, kiểm tra xem nó có phải là số nguyên tố hay không? \n"
   ]
  },
  {
   "cell_type": "code",
   "execution_count": 22,
   "id": "44036289",
   "metadata": {},
   "outputs": [
    {
     "name": "stdout",
     "output_type": "stream",
     "text": [
      "la so nguyen to\n"
     ]
    }
   ],
   "source": [
    "from math import isqrt\n",
    "n=int(input())\n",
    "if n<2:print(\"khong la so nguyen to\")\n",
    "elif n==2 or n==3: print(\"la so nguyen to\")\n",
    "else:\n",
    "    check=1\n",
    "    for i in range(2,isqrt(n)+1):\n",
    "        if n%i==0:\n",
    "            check=0\n",
    "            print(\"khong la so nguyen to\")\n",
    "            break\n",
    "    if check==1:print(\"la so nguyen to\")"
   ]
  },
  {
   "cell_type": "markdown",
   "id": "463a4093",
   "metadata": {},
   "source": [
    "Bài 20: In ra các số nguyên tố nhỏ hơn hoặc bằng N (N là số nguyên không âm được nhập từ bàn phím). \n"
   ]
  },
  {
   "cell_type": "code",
   "execution_count": 37,
   "id": "6a1a9116",
   "metadata": {},
   "outputs": [
    {
     "name": "stdout",
     "output_type": "stream",
     "text": [
      "97\n"
     ]
    }
   ],
   "source": [
    "from math import isqrt\n",
    "def nto(n):\n",
    "    if n<2:return 0\n",
    "    if n==2 or n==3:return 1\n",
    "    else:\n",
    "        for i in range(2,isqrt(n)+1):\n",
    "            if n%i==0:\n",
    "                return 0\n",
    "        return 1\n",
    "n=int(input())\n",
    "# print(bool(nto(n)))\n",
    "flag=1\n",
    "ans=2\n",
    "for i in range(2,n+1):\n",
    "    if nto(i)==True:\n",
    "        ans=i\n",
    "        flag=0\n",
    "if flag==1: print(\"khong co so nguyen to nho hon\")\n",
    "else: print(ans)"
   ]
  },
  {
   "cell_type": "markdown",
   "id": "82ba5118",
   "metadata": {},
   "source": [
    "Bài 21: Nhập 3 loại tiền và số tiền cần đổi. Hãy tìm tất cả các tổ hợp có được của 3 loại tiền trên cho số tiền \n",
    "vừa nhập. "
   ]
  },
  {
   "cell_type": "code",
   "execution_count": null,
   "id": "de310fea",
   "metadata": {},
   "outputs": [],
   "source": [
    "# em khong hieu de bai"
   ]
  },
  {
   "cell_type": "markdown",
   "id": "1f7b822d",
   "metadata": {},
   "source": [
    "Bài 22: \n",
    "Trăm trâu trăm cỏ \n",
    "Trâu đứng ăn năm \n",
    "Trâu nằm ăn ba \n",
    "Trâu già ba con một bó. Hỏi có bao nhiêu \n",
    "con mỗi loại?"
   ]
  },
  {
   "cell_type": "code",
   "execution_count": 40,
   "id": "1546b238",
   "metadata": {},
   "outputs": [
    {
     "name": "stdout",
     "output_type": "stream",
     "text": [
      "trau dung la 4 trau nam la 18 trau gia la 78\n",
      "trau dung la 8 trau nam la 11 trau gia la 81\n",
      "trau dung la 12 trau nam la 4 trau gia la 84\n"
     ]
    }
   ],
   "source": [
    "# 100=dung*5+nam*3+gia/3\n",
    "# co=5d+3(100-i-d)=d(5-3)+300-3i\n",
    "for i in range(0,100,3):\n",
    "    co=100-i//3\n",
    "    d=int((co-300+3*i)/2)\n",
    "    n=100-i-d\n",
    "    if co==5*d+3*n and d*n>0:\n",
    "        print(f\"trau dung la {d} trau nam la {n} trau gia la {i}\")\n",
    "        # break\n",
    "\n",
    "    "
   ]
  },
  {
   "cell_type": "markdown",
   "id": "81424110",
   "metadata": {},
   "source": [
    "Bài 23: Tạo bảng số dạng sau: \n",
    "0    1 2 3 4 5 6 7 8   9 \n",
    "10  11     12    13    14  15   16    17 18    19\n"
   ]
  },
  {
   "cell_type": "code",
   "execution_count": 83,
   "id": "600a9c6f",
   "metadata": {},
   "outputs": [
    {
     "name": "stdout",
     "output_type": "stream",
     "text": [
      "|-------------------------------|\n",
      "| 0  1  2  3  4  5  6  7  8  9  |\n",
      "| 10 11 12 13 14 15 16 17 18 19 |\n",
      "| ............................. |\n",
      "|-------------------------------|\n"
     ]
    }
   ],
   "source": [
    "print(\"|\",sep=\" \",end=\"\")\n",
    "for i in range(31):\n",
    "    print(\"-\",sep=\"\",end=\"\")\n",
    "print(\"|\")\n",
    "\n",
    "print(\"|\",sep=\" \",end=\" \")\n",
    "for i in range(10):\n",
    "    print(i,sep=\" \",end=\"  \")\n",
    "print(\"|\")\n",
    "print(\"|\",end=\" \")\n",
    "for i in range(10,20):\n",
    "    print(i,sep=\" \",end=\" \")\n",
    "print(\"|\")\n",
    "print(\"|\",end=\" \")\n",
    "for i in range(29):\n",
    "    print(\".\",sep=\"\",end=\"\")\n",
    "print(\" |\")\n",
    "print(\"|\",end=\"\")\n",
    "for i in range(31):\n",
    "    print(\"-\",sep=\"\",end=\"\")\n",
    "print(\"|\")\n",
    "\n",
    "\n",
    "\n",
    "\n"
   ]
  },
  {
   "cell_type": "markdown",
   "id": "026ae98a",
   "metadata": {},
   "source": [
    "Bài 26: Tính a^n (dùng hàm con) "
   ]
  },
  {
   "cell_type": "code",
   "execution_count": 1,
   "id": "2f64d297",
   "metadata": {},
   "outputs": [
    {
     "name": "stdout",
     "output_type": "stream",
     "text": [
      "8\n"
     ]
    }
   ],
   "source": [
    "def pow(a,n):\n",
    "    return a**n\n",
    "a,n=map(int,input().split())\n",
    "print(pow(a,n))"
   ]
  },
  {
   "cell_type": "markdown",
   "id": "308b4480",
   "metadata": {},
   "source": [
    "Bài 27: Tính n! (dùng hàm con) "
   ]
  },
  {
   "cell_type": "code",
   "execution_count": null,
   "id": "fbaaf0cf",
   "metadata": {},
   "outputs": [],
   "source": [
    "def giaithua(n):\n",
    "    if n==0: return 1\n",
    "    else :\n",
    "        s=1\n",
    "        for i in range(2,n+1):\n",
    "            s*=i\n",
    "        return s"
   ]
  },
  {
   "cell_type": "markdown",
   "id": "77575746",
   "metadata": {},
   "source": [
    "Bài 28: Tính C kn   \n",
    "(dùng hàm con);"
   ]
  },
  {
   "cell_type": "code",
   "execution_count": 2,
   "id": "99bd1ff1",
   "metadata": {},
   "outputs": [
    {
     "name": "stdout",
     "output_type": "stream",
     "text": [
      "84\n"
     ]
    }
   ],
   "source": [
    "def to_hop(n,k):\n",
    "    if k==0 or k==n:\n",
    "        return 1\n",
    "    if k==1 or k==n-1:\n",
    "        return n\n",
    "    return to_hop(n-1,k-1)+to_hop(n-1,k)\n",
    "n,k=map(int,input().split())\n",
    "print(to_hop(n,k))\n"
   ]
  },
  {
   "cell_type": "markdown",
   "id": "830cb9e1",
   "metadata": {},
   "source": [
    "Bài 29: Lập tam giác PASCAL, bằng Cn k(dùng hàm con)  \n"
   ]
  },
  {
   "cell_type": "code",
   "execution_count": 15,
   "id": "a292ba0b",
   "metadata": {},
   "outputs": [
    {
     "name": "stdout",
     "output_type": "stream",
     "text": [
      "1 \n",
      "1 1 \n",
      "1 2 1 \n",
      "1 3 3 1 \n",
      "1 4 6 4 1 \n",
      "1 5 10 10 5 1 \n",
      "1 6 15 20 15 6 1 \n",
      "1 7 21 35 35 21 7 1 \n",
      "1 8 28 56 70 56 28 8 1 \n",
      "1 9 36 84 126 126 84 36 9 1 \n",
      "1 10 45 120 210 252 210 120 45 10 1 \n"
     ]
    }
   ],
   "source": [
    "# hang thu n thi la ca gia tri cua c(n,0),....c(n,n)\n",
    "def c(n,k):\n",
    "    if k==0 or k==n:\n",
    "        return 1\n",
    "    if k==1 or k==n-1:\n",
    "        return n\n",
    "    return c(n-1,k-1)+c(n-1,k)\n",
    "n=int(input())\n",
    "for i in range(n+1):\n",
    "    for j in range(i+1):\n",
    "        print(c(i,j),end=\" \")\n",
    "    print()"
   ]
  },
  {
   "cell_type": "markdown",
   "id": "b6a8c630",
   "metadata": {},
   "source": [
    "Bài 30: Viết các chương trình con tính diện tích tam giác, tròn, vuông, chữ nhật trong một chương trình. \n",
    "Sau  đó hỏi chọn  một trong các phương án  tính diện  tích bằng  cách chọn trong bảng chọn lệnh sau (Tạo \n",
    "Menu): \n",
    "0.   Không làm gì hết và trở về màn hình soạn thảo. \n",
    "1.   Tính diện tích hình vuông \n",
    "2.   Tính diện tích hình tròn \n",
    "3.   Tính diện tích tam giác \n",
    "4.   Tính diện tích hình chữ nhật"
   ]
  },
  {
   "cell_type": "code",
   "execution_count": 24,
   "id": "2ac521db",
   "metadata": {},
   "outputs": [
    {
     "name": "stdout",
     "output_type": "stream",
     "text": [
      "0.   Không làm gì hết và trở về màn hình soạn thảo.\n",
      "1.   Tính diện tích hình vuông \n",
      "2.   Tính diện tích hình tròn \n",
      "3.   Tính diện tích tam giác \n",
      "4.   Tính diện tích hình chữ nhật\n",
      "9\n",
      "ban nhap sai\n"
     ]
    }
   ],
   "source": [
    "from math import sqrt\n",
    "def hv(a):\n",
    "    return a*a\n",
    "def h_tron(r):\n",
    "    return 3.4*r*r\n",
    "def tg(a,b,c):\n",
    "    p=(a+b+c)/2\n",
    "    return sqrt(p*(p-a)*(p-b)*(p-c))\n",
    "def hcn(a,b):\n",
    "    return a*b\n",
    "print(\"0.   Không làm gì hết và trở về màn hình soạn thảo.\\n1.   Tính diện tích hình vuông \\n2.   Tính diện tích hình tròn \\n3.   Tính diện tích tam giác \\n4.   Tính diện tích hình chữ nhật\")\n",
    "while True:\n",
    "    x=int(input())\n",
    "    if x==1:\n",
    "        a=int(input(\"nhap cach cua hinh vuong\"))\n",
    "        print(hv(a))\n",
    "    elif x==2:\n",
    "        r=int(input(\"nhap ban kinh cua hinh tron\"))\n",
    "    elif x==3:\n",
    "        a,b,c=map(int,input(\"nhap 3 cach cua tam giac\").split())\n",
    "        print(tg(a,b,c))\n",
    "    elif x==4:\n",
    "        a,b=map(int,input(\"nhap 2 cach cua hinh chu nhat\".split()))\n",
    "    elif x==0:\n",
    "        continue\n",
    "    else:\n",
    "        print(\"ban nhap sai\")\n",
    "        break\n"
   ]
  },
  {
   "cell_type": "markdown",
   "id": "c59949ba",
   "metadata": {},
   "source": [
    "Bài 31: Tính các số Fibonacci (Hoặc kiểm tra 1 số có phải số Fibonaci không): - \n",
    "F1=F2  = 1 - \n",
    "Fn = Fn-1 + Fn-2 "
   ]
  },
  {
   "cell_type": "code",
   "execution_count": 25,
   "id": "b6f2baa4",
   "metadata": {},
   "outputs": [
    {
     "name": "stdout",
     "output_type": "stream",
     "text": [
      "0\n",
      "1\n",
      "1\n",
      "2\n",
      "3\n",
      "5\n",
      "8\n",
      "13\n",
      "21\n",
      "34\n"
     ]
    }
   ],
   "source": [
    "def fibo(n):\n",
    "    f=[0]*n\n",
    "    if n>1 :\n",
    "        f[1]=1\n",
    "    for i in range(2,n):\n",
    "        f[i]=f[i-1]+f[i-2]\n",
    "    return f\n",
    "n=int(input(\"nhap so so fibonasi can in\"))\n",
    "a=fibo(n)\n",
    "for i in a: print(i)"
   ]
  },
  {
   "cell_type": "markdown",
   "id": "8bcd55ab",
   "metadata": {},
   "source": [
    "Bài 32: Viết chương trình tìm số đảo của một số nguyên dương. Ví dụ: - Số = 12345 - Số đảo = 54321"
   ]
  },
  {
   "cell_type": "code",
   "execution_count": 26,
   "id": "313ee618",
   "metadata": {},
   "outputs": [
    {
     "name": "stdout",
     "output_type": "stream",
     "text": [
      "54321\n"
     ]
    }
   ],
   "source": [
    "n=int(input())\n",
    "a=0\n",
    "while n>0:\n",
    "    a=a*10+n%10\n",
    "    n//=10\n",
    "print(a)"
   ]
  },
  {
   "cell_type": "markdown",
   "id": "aceef62b",
   "metadata": {},
   "source": [
    "Bài 1: Cho một dãy số nguyên, tính tổng (hoặc đếm, hoặc in ra) các số có tổng các chữ số bằng đúng K \n"
   ]
  },
  {
   "cell_type": "code",
   "execution_count": 28,
   "id": "1c269333",
   "metadata": {},
   "outputs": [
    {
     "name": "stdout",
     "output_type": "stream",
     "text": [
      "2300\n"
     ]
    }
   ],
   "source": [
    "def tong_cac_chu_so(n):\n",
    "    ans=0\n",
    "    while n>0:\n",
    "        ans=ans+n%10\n",
    "        n//=10\n",
    "    return ans\n",
    "n=int(input(\"nhap so phan tu\"))\n",
    "k=int(input(\"nhap so k\"))\n",
    "sum=0\n",
    "for i in range(n):\n",
    "    a=int(input())\n",
    "    if tong_cac_chu_so(a)==k:\n",
    "        sum+=a\n",
    "print(sum)"
   ]
  },
  {
   "cell_type": "markdown",
   "id": "616c311e",
   "metadata": {},
   "source": [
    "Bài 2: Cho N là ngày, T là tháng của năm 2000 (năm nhuận). Tính xem đó là ngày thứ bao nhiêu của năm.  \n",
    "Nhớ phải kiểm tra tính hợp lệ của dữ liệu vào \n",
    "VD: ngày 2/2 là ngày thứ 33 của năm đo"
   ]
  },
  {
   "cell_type": "code",
   "execution_count": 35,
   "id": "fb1d1ea9",
   "metadata": {},
   "outputs": [
    {
     "name": "stdout",
     "output_type": "stream",
     "text": [
      "33\n"
     ]
    }
   ],
   "source": [
    "n,t=map(int,input().split())\n",
    "check=0\n",
    "ans=0\n",
    "match t:\n",
    "    case 1 | 3 | 5 | 7 | 8 | 10 | 12:\n",
    "        if n>0 and n<32:\n",
    "            check=1\n",
    "    case 2: \n",
    "        if n>0 and n<30:\n",
    "            check=1\n",
    "    case 4|6|9|11:\n",
    "        if n>0 and n<31:\n",
    "            check=1\n",
    "if check==0:print(\"nhap du lieu khong hop le\")\n",
    "else:\n",
    "    ans=n\n",
    "    t-=1\n",
    "    while t!=0:\n",
    "        match t:    \n",
    "            case 1 | 3 | 5 | 7 | 8 | 10 | 12:\n",
    "                ans+=31\n",
    "            case 2: \n",
    "                ans+=29\n",
    "            case 4|6|9|11:\n",
    "                ans+=30\n",
    "        t-=1\n",
    "    print(ans)"
   ]
  }
 ],
 "metadata": {
  "kernelspec": {
   "display_name": "Python 3",
   "language": "python",
   "name": "python3"
  },
  "language_info": {
   "codemirror_mode": {
    "name": "ipython",
    "version": 3
   },
   "file_extension": ".py",
   "mimetype": "text/x-python",
   "name": "python",
   "nbconvert_exporter": "python",
   "pygments_lexer": "ipython3",
   "version": "3.13.7"
  }
 },
 "nbformat": 4,
 "nbformat_minor": 5
}
