{
 "cells": [
  {
   "cell_type": "markdown",
   "id": "2bcfa389",
   "metadata": {},
   "source": [
    "Bài 51: Nhập vào mảng số nguyên n phần tử:  \n",
    "a.   Sắp xếp dãy theo thứ tự tăng dần và in kết quả ra màn hình. \n",
    "b.   Nhập vào một số x bất kì, đếm số lần xuất hiện của nó trong dãy trên.\n",
    "c.   In ra màn hình \n",
    "số phần tử nhỏ hơn hoặc bằng x. \n",
    "d.   In ra màn hình số phần tử lớn hơn x. "
   ]
  },
  {
   "cell_type": "code",
   "execution_count": null,
   "id": "6b8fb38f",
   "metadata": {},
   "outputs": [
    {
     "name": "stdout",
     "output_type": "stream",
     "text": [
      "2\n",
      "4\n",
      "6\n"
     ]
    }
   ],
   "source": [
    "n=int(input())\n",
    "a={int(input())for i in range(n)}\n",
    "for i in a:\n",
    "    print(i)"
   ]
  },
  {
   "cell_type": "markdown",
   "id": "53be7ff2",
   "metadata": {},
   "source": [
    "b.   Nhập vào một số x bất kì, đếm số lần xuất hiện của nó trong dãy trên."
   ]
  },
  {
   "cell_type": "code",
   "execution_count": null,
   "id": "2018dfbe",
   "metadata": {},
   "outputs": [
    {
     "name": "stdout",
     "output_type": "stream",
     "text": [
      "1\n"
     ]
    }
   ],
   "source": [
    "n=int(input())\n",
    "a={} \n",
    "for i in range(n):\n",
    "    b=int(input())\n",
    "    a[b]=a.get(b,0)+1\n",
    "x=int(input())\n",
    "a[x]=a.get(x,0)\n",
    "print(a[x])\n"
   ]
  },
  {
   "cell_type": "markdown",
   "id": "c2473761",
   "metadata": {},
   "source": [
    "c.   In ra màn hình \n",
    "số phần tử nhỏ hơn hoặc bằng x. "
   ]
  },
  {
   "cell_type": "code",
   "execution_count": 6,
   "id": "5463681f",
   "metadata": {},
   "outputs": [
    {
     "name": "stdout",
     "output_type": "stream",
     "text": [
      "1 2 "
     ]
    }
   ],
   "source": [
    "n=int(input())\n",
    "a=[int(input()) for i in range(n)]\n",
    "x=int(input())\n",
    "for i in a:\n",
    "    if i<=x:\n",
    "        print(i,end=' ')"
   ]
  },
  {
   "cell_type": "markdown",
   "id": "6c68f764",
   "metadata": {},
   "source": [
    "d.   In ra màn hình số phần tử lớn hơn x. "
   ]
  },
  {
   "cell_type": "code",
   "execution_count": 7,
   "id": "e0cc8f0f",
   "metadata": {},
   "outputs": [
    {
     "name": "stdout",
     "output_type": "stream",
     "text": [
      "3 "
     ]
    }
   ],
   "source": [
    "n=int(input())\n",
    "a=[int(input()) for i in range(n)]\n",
    "x=int(input())\n",
    "for i in a:\n",
    "    if i>x:\n",
    "        print(i,end=' ')"
   ]
  },
  {
   "cell_type": "markdown",
   "id": "756f895e",
   "metadata": {},
   "source": [
    "Bài 52: Viết chương trình nhập vào một dãy số nguyên  có n phần tử . Sắp xếp dãy số theo thứ tự giảm dần & \n",
    "tính giá trị trung bình của dãy. "
   ]
  },
  {
   "cell_type": "code",
   "execution_count": 13,
   "id": "751f0217",
   "metadata": {},
   "outputs": [
    {
     "name": "stdout",
     "output_type": "stream",
     "text": [
      "3 2 1 \n",
      "2.0\n"
     ]
    }
   ],
   "source": [
    "n=int(input())\n",
    "a=[int(input())for i in range(n)]\n",
    "a.sort()\n",
    "tb=sum(a)/len(a)\n",
    "for i in range(n-1,-1,-1):\n",
    "    print(a[i],end=' ')\n",
    "print('\\n' + str(tb))"
   ]
  },
  {
   "cell_type": "markdown",
   "id": "8f2a7626",
   "metadata": {},
   "source": [
    "Bài 53: Viết chương trình nhập vào một ma trận vuông cấp n.  \n",
    "a.   In ra trong các phần tử trên đường chéo chính. \n",
    "b.   In ra màn hình trong các phần tử trên đường chéo phụ. "
   ]
  },
  {
   "cell_type": "code",
   "execution_count": null,
   "id": "87e77533",
   "metadata": {},
   "outputs": [
    {
     "name": "stdout",
     "output_type": "stream",
     "text": [
      "1 5 9 "
     ]
    }
   ],
   "source": [
    "n=int(input())\n",
    "a=[[int(input(f\"a[{i}][{j}]=\"))for j in range(n)]for i in range(n)]\n",
    "for i in range(n):\n",
    "    print(a[i][i],end=' ')"
   ]
  },
  {
   "cell_type": "code",
   "execution_count": 21,
   "id": "58c6af40",
   "metadata": {},
   "outputs": [
    {
     "name": "stdout",
     "output_type": "stream",
     "text": [
      "1 2 3 \n",
      "4 5 6 \n",
      "7 8 9 \n",
      "3 5 7 "
     ]
    }
   ],
   "source": [
    "n=int(input())\n",
    "a=[[int(input())for j in range(n)]for i in range(n)]\n",
    "for i in range(n):\n",
    "    for j in range(n):\n",
    "        print(a[i][j],end=' ')\n",
    "    print()\n",
    "for i in range(n):\n",
    "    print(a[i][n-1-i],end=' ')\n",
    "# 4x4 duong cheo phu la a14 a23 a32 a41\n"
   ]
  },
  {
   "cell_type": "markdown",
   "id": "55ac59ea",
   "metadata": {},
   "source": [
    "Bài 54: Viết chương trình nhập vào một ma trận vuông cấp n. Kiểm tra xem ma trận có đối xứng hay không ? "
   ]
  },
  {
   "cell_type": "code",
   "execution_count": 24,
   "id": "c3f74097",
   "metadata": {},
   "outputs": [
    {
     "name": "stdout",
     "output_type": "stream",
     "text": [
      "1 2 3 \n",
      "2 1 3 \n",
      "3 3 1 \n",
      "la ma tran doi xung\n"
     ]
    }
   ],
   "source": [
    "n=int(input())\n",
    "a=[[int(input())for j in range(n)]for i in range(n)]\n",
    "check=1\n",
    "for i in range(n):\n",
    "    for j in range(n):\n",
    "        if a[i][j]!=a[j][i]:\n",
    "            check=0\n",
    "            break\n",
    "for i in range(n):\n",
    "    for j in range(n):\n",
    "        print(a[i][j],end=' ')\n",
    "    print()\n",
    "if check==1:print(\"la ma tran doi xung\")\n",
    "else:print(\"la ma tran khong doi xung\")"
   ]
  },
  {
   "cell_type": "markdown",
   "id": "4f8d7850",
   "metadata": {},
   "source": [
    "Bài 55: Viết chương trình nhập vào một ma trận vuông cấp n.  \n",
    "a.   Tính tổng của 2 ma trận. \n",
    "b.   Tính tích của 2 ma trận. "
   ]
  },
  {
   "cell_type": "code",
   "execution_count": 26,
   "id": "cdf93533",
   "metadata": {},
   "outputs": [
    {
     "name": "stdout",
     "output_type": "stream",
     "text": [
      "2 4 6 \n",
      "2 4 6 \n",
      "2 4 6 \n",
      "\n",
      "1 4 9 \n",
      "1 4 9 \n",
      "1 4 9 \n"
     ]
    }
   ],
   "source": [
    "n=int(input())\n",
    "a=[[int(input())for j in range(n)]for i in range(n)]\n",
    "b=[[int(input())for j in range(n)]for i in range(n)]\n",
    "c=[[a[i][j]+b[i][j] for j in range(n)]for i in range(n)]\n",
    "d=[[a[i][j]*b[i][j] for j in range(n)]for i in range(n)]\n",
    "for i in range(n):\n",
    "    for j in range(n):\n",
    "        print(c[i][j],end=' ')\n",
    "    print()\n",
    "print()\n",
    "for i in range(n):\n",
    "    for j in range(n):\n",
    "        print(d[i][j],end=' ')\n",
    "    print()"
   ]
  },
  {
   "cell_type": "markdown",
   "id": "d0905046",
   "metadata": {},
   "source": [
    "Bài 56: Đếm số từ (word) trong một chuỗi. "
   ]
  },
  {
   "cell_type": "code",
   "execution_count": 30,
   "id": "8879b00c",
   "metadata": {},
   "outputs": [
    {
     "name": "stdout",
     "output_type": "stream",
     "text": [
      "3\n"
     ]
    }
   ],
   "source": [
    "s=input()\n",
    "n=s.split()\n",
    "ans=0\n",
    "for i in n:\n",
    "    if not(len(i)==1 and not i.isalpha()):\n",
    "        ans+=1\n",
    "print(ans)"
   ]
  },
  {
   "cell_type": "markdown",
   "id": "4e00f492",
   "metadata": {},
   "source": [
    "Bài 57: Trộn hai mảng đã được sắp xếp theo thứ tự tăng dần lại thành một mảng mới mà vẫn đảm bảo thứ tự \n",
    "của nó. Không dùng bất cứ thuật toán sắp xếp nào."
   ]
  },
  {
   "cell_type": "code",
   "execution_count": 33,
   "id": "e16d606b",
   "metadata": {},
   "outputs": [
    {
     "name": "stdout",
     "output_type": "stream",
     "text": [
      "[1, 2, 3, 4, 5, 6]\n"
     ]
    }
   ],
   "source": [
    "n=int(input(\"nhap so phan tu mang thu nhat\"))\n",
    "a=[int(input())for i in range(n)]\n",
    "m=int(input(\"nhap so phan tu mang thu hai\"))\n",
    "b=[int(input())for i in range(m)]\n",
    "i,j=0,0\n",
    "c=[]\n",
    "while i<n and j<m:\n",
    "    if a[i]<b[j]:\n",
    "        c.append(a[i])\n",
    "        i+=1\n",
    "    else:\n",
    "        c.append(b[j])\n",
    "        j+=1\n",
    "if i<n : c+=a[i:]\n",
    "if j<m : c+=b[j:]\n",
    "print(c)\n",
    "    \n"
   ]
  },
  {
   "cell_type": "markdown",
   "id": "bee88bb9",
   "metadata": {},
   "source": [
    "Bài 58:  Viết chương trình nhập vào một danh sách sinh viên có n người ( mỗi sinh viên có họ, tên, tuổi, quê \n",
    "quán). In danh sách sinh viên ra màn hình. Sắp xếp danh sách sinh viên theo tuổi và in danh sách sau khi sắp \n",
    "xếp ra màn hình. "
   ]
  },
  {
   "cell_type": "code",
   "execution_count": null,
   "id": "eee299d3",
   "metadata": {},
   "outputs": [
    {
     "name": "stdout",
     "output_type": "stream",
     "text": [
      "Họ bui , Tên anh tuyet , Tuổi 22 , Quê Quán nam dinh\n",
      "Họ bui , Tên quang chung , Tuổi 18 , Quê Quán nam dinh\n",
      "danh sach sinh vien sau khi sap xep theo tuoi\n",
      "Họ bui , Tên quang chung , Tuổi 18 , Quê Quán nam dinh\n",
      "Họ bui , Tên anh tuyet , Tuổi 22 , Quê Quán nam dinh\n"
     ]
    }
   ],
   "source": [
    "ds=[]\n",
    "n=int(input(\"nhap so sinh vien\"))\n",
    "for i in range(n):\n",
    "    sv={}\n",
    "    sv[\"ho\"]=input(\"nhap ho\")\n",
    "    sv[\"ten\"]=input(\"nhap ten\")\n",
    "    sv[\"tuoi\"]=int(input(\"nhap tuoi\"))\n",
    "    sv[\"que\"]=input(\"nhap que quan\")\n",
    "    ds.append(sv)\n",
    "for sv in ds:\n",
    "    print(f\"Họ {sv[\"ho\"]} , Tên {sv[\"ten\"]} , Tuổi {sv[\"tuoi\"]} , Quê Quán {sv[\"que\"]}\")\n",
    "# ds.sort(key=lambda x: x[\"tuoi\"])\n",
    "def lay_tuoi(x):\n",
    "    return x[\"tuoi\"]\n",
    "ds.sort(key=lay_tuoi)\n",
    "print(\"danh sach sinh vien sau khi sap xep theo tuoi\")\n",
    "for sv in ds:\n",
    "    print(f\"Họ {sv[\"ho\"]} , Tên {sv[\"ten\"]} , Tuổi {sv[\"tuoi\"]} , Quê Quán {sv[\"que\"]}\")\n",
    "\n"
   ]
  },
  {
   "cell_type": "markdown",
   "id": "02bc9d4b",
   "metadata": {},
   "source": [
    "more:\n",
    "1. Viết hàm lọc đi các số < x trong mảng a \n"
   ]
  },
  {
   "cell_type": "code",
   "execution_count": 41,
   "id": "71f5e5d2",
   "metadata": {},
   "outputs": [
    {
     "name": "stdout",
     "output_type": "stream",
     "text": [
      "mang sau khi loc di cac so < x trong mang a la  [3, 4, 5]\n"
     ]
    }
   ],
   "source": [
    "n=int(input(\"nhap so phan tu trong mang\"))\n",
    "a=[int(input(f\"nhap phan tu thu {i+1} \"))for i in range(n)]\n",
    "x=int(input(\"nhap so x\"))\n",
    "b=[]\n",
    "for i in a:\n",
    "    if i>=x:\n",
    "        b.append(i)\n",
    "print(\"mang sau khi loc di cac so < x trong mang a la \",b)\n"
   ]
  },
  {
   "cell_type": "markdown",
   "id": "ae684198",
   "metadata": {},
   "source": [
    "2. Viết hàm cân bằng mảng bằng làm thế nào cho số phần tử chẵn bằng số phần tử lẻ, nếu thiếu bên lẻ \n",
    "sẽ cho thêm các phần tử thiếu bằng số lẻ lớn nhất (nếu mảng ko có số lẻ nào thì coi 1 là số lẻ lớn \n",
    "nhất), nếu thiếu bên chẵn thì cho thêm các phần tử bằng số chẵn lớn nhất có trong mảng (nếu mảng \n",
    "ko có số chẵn nào thì coi 2 là số lẻ chẵn lớn nhất) "
   ]
  },
  {
   "cell_type": "code",
   "execution_count": 43,
   "id": "6b2dd65e",
   "metadata": {},
   "outputs": [
    {
     "name": "stdout",
     "output_type": "stream",
     "text": [
      "mang sau khi can bang so luong phan tu chan va le la  [1, 2, 3, 4, 5, 4]\n"
     ]
    }
   ],
   "source": [
    "n=int(input(\"nhap so phan tu trong mang\"))\n",
    "a=[int(input())for i in range(n)]\n",
    "chan,le=0,0\n",
    "cm,lm=2,1\n",
    "for i in a:\n",
    "    if i%2==0:\n",
    "        chan+=1\n",
    "        if i>cm:cm=i\n",
    "    else:\n",
    "        le+=1\n",
    "        if i>lm:lm=i\n",
    "if chan>le:\n",
    "    x=chan-le\n",
    "    b=[lm]*x\n",
    "else:\n",
    "    x=le-chan\n",
    "    b=[cm]*x\n",
    "a+=b\n",
    "print(\"mang sau khi can bang so luong phan tu chan va le la \",a)\n"
   ]
  },
  {
   "cell_type": "markdown",
   "id": "6ca0376b",
   "metadata": {},
   "source": [
    "3. Cho mảng N phần tử có giá trị từ 0…9. Kiểm tra xem gtri số nào không xuất hiện trong mảng, in ra \n",
    "kết quả là các số tăng dần "
   ]
  },
  {
   "cell_type": "code",
   "execution_count": 48,
   "id": "cb07a92e",
   "metadata": {},
   "outputs": [
    {
     "name": "stdout",
     "output_type": "stream",
     "text": [
      "0 2 3 4 5 6 7 8 9 "
     ]
    }
   ],
   "source": [
    "ds=[0]*10\n",
    "n=int(input(\"nhap so phan tu\"))\n",
    "for i in range(n):\n",
    "    x=int(input())\n",
    "    ds[x]+=1\n",
    "check=1\n",
    "for i in range(10):\n",
    "    if ds[i]==0:\n",
    "        print(i,end=' ')\n",
    "        check=0\n",
    "if check==1:print(\"so nao cung xuat hien 1 lan\")\n",
    "\n"
   ]
  }
 ],
 "metadata": {
  "kernelspec": {
   "display_name": "Python 3",
   "language": "python",
   "name": "python3"
  },
  "language_info": {
   "codemirror_mode": {
    "name": "ipython",
    "version": 3
   },
   "file_extension": ".py",
   "mimetype": "text/x-python",
   "name": "python",
   "nbconvert_exporter": "python",
   "pygments_lexer": "ipython3",
   "version": "3.13.7"
  }
 },
 "nbformat": 4,
 "nbformat_minor": 5
}
