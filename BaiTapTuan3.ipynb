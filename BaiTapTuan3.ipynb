{
 "cells": [
  {
   "cell_type": "markdown",
   "id": "a2aa2eb7",
   "metadata": {},
   "source": [
    "W3A2 \n",
    "Hoán đổi hai số không sd biến tạm thời \n",
    "Sử dụng phép toán XOR trên bit để hoán đổi giá trị của hai biến. \n",
    "Đọc và tự tìm hiểu các phép toán trên bit: AND, OR, XOR "
   ]
  },
  {
   "cell_type": "code",
   "execution_count": null,
   "id": "50ece302",
   "metadata": {},
   "outputs": [
    {
     "name": "stdout",
     "output_type": "stream",
     "text": [
      "3 2\n"
     ]
    }
   ],
   "source": [
    "a,b=map(int,input().split())\n",
    "a=a^b\n",
    "b=a^b\n",
    "a=a^b\n",
    "print(a,b)\n",
    "# xor khac 1 giong 0"
   ]
  },
  {
   "cell_type": "markdown",
   "id": "72a58bbe",
   "metadata": {},
   "source": [
    "W3A3 \n",
    "Kiểm tra xem một số có phải là lũy thừa của 2 hay không \n",
    "Sử dụng các toán tử bitwise để xác định xem một số có phải là lũy thừa của 2 \n",
    "hay không. \n",
    "Gợi ý: Đối với lũy thừa của 2, n & (n-1) == 0 "
   ]
  },
  {
   "cell_type": "code",
   "execution_count": null,
   "id": "b3130f8b",
   "metadata": {},
   "outputs": [
    {
     "name": "stdout",
     "output_type": "stream",
     "text": [
      "False\n"
     ]
    }
   ],
   "source": [
    "a=int(input())\n",
    "print(a&(a-1)==0)"
   ]
  },
  {
   "cell_type": "markdown",
   "id": "58037352",
   "metadata": {},
   "source": [
    "W3A4 Viêt chương trình chia một số m cho n, kết quả thu được làm tròn xuống "
   ]
  },
  {
   "cell_type": "code",
   "execution_count": 5,
   "id": "8b363e2c",
   "metadata": {},
   "outputs": [
    {
     "name": "stdout",
     "output_type": "stream",
     "text": [
      "4\n"
     ]
    }
   ],
   "source": [
    "m,n=map(int,input().split())\n",
    "print(m//n)"
   ]
  },
  {
   "cell_type": "markdown",
   "id": "67ae2e7a",
   "metadata": {},
   "source": [
    "W3A5 Viêt chương trình chia một số m cho n, kết quả thu được làm tròn lên "
   ]
  },
  {
   "cell_type": "code",
   "execution_count": 6,
   "id": "cf2ca203",
   "metadata": {},
   "outputs": [
    {
     "name": "stdout",
     "output_type": "stream",
     "text": [
      "5\n"
     ]
    }
   ],
   "source": [
    "m,n=map(int,input().split())\n",
    "print(m//n+1)"
   ]
  },
  {
   "cell_type": "markdown",
   "id": "86fb4395",
   "metadata": {},
   "source": [
    "W3A6 \n",
    "[Even and Odd]  \n",
    "Nhập vào một số nguyên dương x, bạn hãy kiểm tra xem x là số chẵn hay lẻ. \n",
    "Nếu x là số chẵn, in ra \"Even\". Nếu x là số lẻ, in ra \"Odd\".  "
   ]
  },
  {
   "cell_type": "code",
   "execution_count": 9,
   "id": "a490585a",
   "metadata": {},
   "outputs": [
    {
     "name": "stdout",
     "output_type": "stream",
     "text": [
      "Even\n"
     ]
    }
   ],
   "source": [
    "x=int(input())\n",
    "if(x%2==0):print(\"Even\")\n",
    "else :print(\"Odd\")"
   ]
  },
  {
   "cell_type": "markdown",
   "id": "e1af5ffb",
   "metadata": {},
   "source": [
    "W3A7 \n",
    "[Check negative numbers] \n",
    "Nhập vào hai số nguyên a, b. Nếu cả hai số a, b đều âm thì in ra \"Yes\", \n",
    "ngược lại in ra \"No\". "
   ]
  },
  {
   "cell_type": "code",
   "execution_count": 11,
   "id": "e2a7a44a",
   "metadata": {},
   "outputs": [
    {
     "name": "stdout",
     "output_type": "stream",
     "text": [
      "Yes\n"
     ]
    }
   ],
   "source": [
    "a,b=map(int,input().split())\n",
    "if(a<0 and b<0): print(\"Yes\")\n",
    "else : print(\"No\")"
   ]
  },
  {
   "cell_type": "markdown",
   "id": "24ec63b6",
   "metadata": {},
   "source": [
    "W3A8 \n",
    "[Longer string] \n",
    "Nhập vào hai chuỗi a, b gồm các chữ cái thường. In ra \"True\" nếu chuỗi a \n",
    "dài hơn chuỗi b. Ngược lại in ra \"False\". "
   ]
  },
  {
   "cell_type": "code",
   "execution_count": 15,
   "id": "a6df6cb9",
   "metadata": {},
   "outputs": [
    {
     "name": "stdout",
     "output_type": "stream",
     "text": [
      "True\n"
     ]
    }
   ],
   "source": [
    "a,b=str(input()),str(input())\n",
    "print(len(a)>len(b)) "
   ]
  },
  {
   "cell_type": "markdown",
   "id": "e638a044",
   "metadata": {},
   "source": [
    "W3A9 \n",
    "[Triangle]  \n",
    "Nhập vào 3 số nguyên dương a, b, c. Kiểm tra xem a, b, c có cấu thành độ \n",
    "dài cạnh của 1 tam giác được không. Nếu a, b, c cấu tạo thành được một tam \n",
    "giác, in ra \"Yes\". Ngược lại in ra \"No\". "
   ]
  },
  {
   "cell_type": "code",
   "execution_count": 17,
   "id": "443aaf41",
   "metadata": {},
   "outputs": [
    {
     "name": "stdout",
     "output_type": "stream",
     "text": [
      "Yes\n"
     ]
    }
   ],
   "source": [
    "a,b,c=map(float,input().split())\n",
    "if(a+b>c and a+c>b and b+c > a): print(\"Yes\")\n",
    "else : print(\"No\")"
   ]
  },
  {
   "cell_type": "markdown",
   "id": "19765988",
   "metadata": {},
   "source": [
    "W3A10 \n",
    "[Largest number] \n",
    "Nhập vào 4 số nguyên. In ra màn hình số nguyên lớn nhất trong 4 số. "
   ]
  },
  {
   "cell_type": "code",
   "execution_count": 19,
   "id": "8a29e5d8",
   "metadata": {},
   "outputs": [
    {
     "name": "stdout",
     "output_type": "stream",
     "text": [
      "3\n"
     ]
    }
   ],
   "source": [
    "a=list(map(int,input().split()))\n",
    "b=a[0]\n",
    "for x in range(1,3):\n",
    "    if(b<a[x]):b=a[x]\n",
    "print(b)"
   ]
  },
  {
   "cell_type": "markdown",
   "id": "320c3ae1",
   "metadata": {},
   "source": [
    "W3A11 \n",
    "[Phân loại tam giác] \n",
    "Nhập vào 3 số nguyên dương a,b,c là độ dài 3 cạnh của một tam giác. Kiểm \n",
    "tra 3 số đã nhập có tạo thành một tam giác hợp lệ hay không. Nếu không in \n",
    "ra \"Không phải tam giác\". Nếu có, phân loại tam giác đó là \"Tam giác đều\", \n",
    "\"Tam giác cân\", hay \"Tam giác thường\". "
   ]
  },
  {
   "cell_type": "code",
   "execution_count": 22,
   "id": "c4b32f2a",
   "metadata": {},
   "outputs": [
    {
     "name": "stdout",
     "output_type": "stream",
     "text": [
      "tam giac can\n"
     ]
    }
   ],
   "source": [
    "a,b,c=map(float,input().split())\n",
    "if(a+b>c and a+c>b and c+b>a):\n",
    "    if(a==b==c):print(\"tam giac deu\")\n",
    "    elif a!=b!=c : print(\"tam giac thuong\")\n",
    "    else :print(\"tam giac can\")\n",
    "else: print(\"khong phai tam giac\")"
   ]
  },
  {
   "cell_type": "markdown",
   "id": "df75db44",
   "metadata": {},
   "source": [
    "W3A12 \n",
    "[Kiểm tra năm nhuận] \n",
    "Nhập vào một số nguyên dương n là số năm, kiểm tra xem năm đó có phải là \n",
    "năm nhuận hay không. Năm nhuận là năm chia hết cho 4 nhưng không chia \n",
    "hết cho 100, hoặc chia hết cho 400. Nếu là năm nhuận in ra \"Yes\", nếu \n",
    "không in ra \"No\" "
   ]
  },
  {
   "cell_type": "code",
   "execution_count": 27,
   "id": "58f71e5b",
   "metadata": {},
   "outputs": [
    {
     "name": "stdout",
     "output_type": "stream",
     "text": [
      "Yes\n"
     ]
    }
   ],
   "source": [
    "n=int(input())\n",
    "if(n%400==0 or(n%4==0 and n%100!=0)):print(\"Yes\")\n",
    "else: print(\"No\")"
   ]
  },
  {
   "cell_type": "markdown",
   "id": "339bdb9d",
   "metadata": {},
   "source": [
    "W3A14 \n",
    "[Giải phương trình bậc nhất] \n",
    "Nhập vào hai số thực a và b của phương trình ax + b = 0. Tìm và in ra \n",
    "nghiệm của phương trình, kết quả làm tròn đến số thập phân thứ 2. In ra \"Vô \n",
    "nghiệm\" hoặc \"Vô số nghiệm\" trong trường hợp tương ứng. "
   ]
  },
  {
   "cell_type": "code",
   "execution_count": null,
   "id": "7275eccd",
   "metadata": {},
   "outputs": [
    {
     "name": "stdout",
     "output_type": "stream",
     "text": [
      "vo so nghiem\n"
     ]
    }
   ],
   "source": [
    "a,b=map(float,input().split())\n",
    "if(a==0):\n",
    "    if(b==0):print(\"vo so nghiem\")\n",
    "    else: print(\"vo nghiem\")\n",
    "else: print(f\"nghiem cua phuong trinh la {-b/a:.2f}\")"
   ]
  },
  {
   "cell_type": "markdown",
   "id": "c7b22ab3",
   "metadata": {},
   "source": [
    "W3A15 \n",
    "[Xếp loại học lực] \n",
    "Nhập vào điểm trung bình của một học sinh và in ra học lực của học sinh đó. \n",
    "Xếp loại học lực theo quy tắc: - >= 8.0: Giỏi \n",
    "- >= 6.5: Khá - >= 5.0: Trung bình - < 5.0: Yếu"
   ]
  },
  {
   "cell_type": "code",
   "execution_count": 38,
   "id": "6d791268",
   "metadata": {},
   "outputs": [
    {
     "name": "stdout",
     "output_type": "stream",
     "text": [
      "gioi\n"
     ]
    }
   ],
   "source": [
    "from math import isclose\n",
    "a=float(input())\n",
    "if(a>=8.0):print(\"gioi\")\n",
    "elif(isclose(a,6.5)or a>6.5):print(\"kha\")\n",
    "elif(isclose(a,5.0) or a>5.0):print (\"trung binh\")\n",
    "else: print(\"yeu\")"
   ]
  },
  {
   "cell_type": "markdown",
   "id": "6d89c859",
   "metadata": {},
   "source": [
    "W3A16 \n",
    "[Rounding] \n",
    "Nhập vào một số thực: in ra kết quả làm tròn lên, tròn xuống, làm tròn tới số \n",
    "nguyên gần nhất (không được sử dụng hàm sẵn có của pyton). Các kết quả \n",
    "cách nhau một dấu cách "
   ]
  },
  {
   "cell_type": "code",
   "execution_count": 50,
   "id": "4205d931",
   "metadata": {},
   "outputs": [
    {
     "name": "stdout",
     "output_type": "stream",
     "text": [
      "-3 -4 -4\n"
     ]
    }
   ],
   "source": [
    "a=float(input())\n",
    "if(a<0):\n",
    "    x=int(a)\n",
    "    if(x>a):\n",
    "        print(x,x-1,sep=' ',end=' ')\n",
    "        if(x-a>=0.5):print(x-1)\n",
    "        else : print(x)\n",
    "    else: print(x,x,x,sep=\" \")\n",
    "else:\n",
    "    x=int(a)\n",
    "    if(a>x):\n",
    "        print(x+1,x,sep=' ',end=' ')\n",
    "        if(a-x>=0.5):print(x+1)\n",
    "        else: print(x)\n",
    "    else: print(x,x,x,sep=\" \")\n"
   ]
  },
  {
   "cell_type": "markdown",
   "id": "dedae834",
   "metadata": {},
   "source": [
    "W3A17 \n",
    "Cấp số nhân  \n",
    "Cho 4 số a, b, c, d. Hãy kiểm tra xem 4 số này có thể theo thứ tự tạo thành 1 \n",
    "cấp số nhân với công bội nguyên theo đúng thứ tự a, b, c, d hay không?  \n",
    "Gợi ý : Tìm công bội (b / a) nếu b chia hết cho a, sau đó lấy b nhân công bội \n",
    "và so sánh vs c, c nhân công bội và so sánh vs d."
   ]
  },
  {
   "cell_type": "code",
   "execution_count": 57,
   "id": "da4bd406",
   "metadata": {},
   "outputs": [
    {
     "name": "stdout",
     "output_type": "stream",
     "text": [
      "day la cap so cong voi cong boi nguyen\n"
     ]
    }
   ],
   "source": [
    "a,b,c,d=map(int,input().split())\n",
    "if(b%a==0):\n",
    "    q=b/a\n",
    "    if(b*q==c and c*q==d):\n",
    "        print(\"day la cap so cong voi cong boi nguyen\")\n",
    "    else : print(\"day khong phai la cap so cong voi cong boi nguyen\")\n",
    "else : print(\"day khong phai la cap so cong voi cong boi nguyen\")\n"
   ]
  }
 ],
 "metadata": {
  "kernelspec": {
   "display_name": "Python 3",
   "language": "python",
   "name": "python3"
  },
  "language_info": {
   "codemirror_mode": {
    "name": "ipython",
    "version": 3
   },
   "file_extension": ".py",
   "mimetype": "text/x-python",
   "name": "python",
   "nbconvert_exporter": "python",
   "pygments_lexer": "ipython3",
   "version": "3.13.7"
  }
 },
 "nbformat": 4,
 "nbformat_minor": 5
}
