{
 "cells": [
  {
   "cell_type": "code",
   "execution_count": 1,
   "id": "6443d029",
   "metadata": {},
   "outputs": [
    {
     "name": "stdout",
     "output_type": "stream",
     "text": [
      "Hello World\n"
     ]
    }
   ],
   "source": [
    "# bai1\n",
    "print(\"Hello World\")"
   ]
  },
  {
   "cell_type": "code",
   "execution_count": 2,
   "id": "ad542fe3",
   "metadata": {},
   "outputs": [
    {
     "name": "stdout",
     "output_type": "stream",
     "text": [
      "-1\n"
     ]
    }
   ],
   "source": [
    "# bai 2\n",
    "a = int(input(\"nhap a: \"))\n",
    "b = int(input(\"nhap b: \"))\n",
    "c = a - b\n",
    "print(c)"
   ]
  },
  {
   "cell_type": "code",
   "execution_count": 9,
   "id": "ef4df0c9",
   "metadata": {},
   "outputs": [
    {
     "name": "stdout",
     "output_type": "stream",
     "text": [
      "khong hop le\n"
     ]
    }
   ],
   "source": [
    "dd,mm,yy=map(int,input().split())\n",
    "Max=-1\n",
    "match mm:\n",
    "    case 1|3|5|7|8|10|12:\n",
    "        Max=31\n",
    "    case 4|6|9|11:\n",
    "        Max=30\n",
    "    case 2:\n",
    "        Max=29 if yy%4==0 and (yy%100!=0 or yy%400==0) else 28\n",
    "if 1<=dd<=Max and 1<=mm<=12 and yy>=0:\n",
    "    print(\"hop le\")\n",
    "else:\n",
    "    print(\"khong hop le\")"
   ]
  },
  {
   "cell_type": "code",
   "execution_count": null,
   "id": "a76a7689",
   "metadata": {},
   "outputs": [],
   "source": []
  },
  {
   "cell_type": "code",
   "execution_count": null,
   "id": "207078c5",
   "metadata": {},
   "outputs": [],
   "source": []
  }
 ],
 "metadata": {
  "kernelspec": {
   "display_name": "Python 3",
   "language": "python",
   "name": "python3"
  },
  "language_info": {
   "codemirror_mode": {
    "name": "ipython",
    "version": 3
   },
   "file_extension": ".py",
   "mimetype": "text/x-python",
   "name": "python",
   "nbconvert_exporter": "python",
   "pygments_lexer": "ipython3",
   "version": "3.13.7"
  }
 },
 "nbformat": 4,
 "nbformat_minor": 5
}
