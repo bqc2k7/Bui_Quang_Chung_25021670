{
 "cells": [
  {
   "cell_type": "markdown",
   "id": "8696dea2",
   "metadata": {},
   "source": [
    "W4A1 \n",
    "[SumOfNumBers] \n",
    "Viết chương trình Python sử dụng một trong 2 loại vòng lặp for hoặc while để \n",
    "tính tống các số nguyên từ 1 đến n. (n <= 1000) "
   ]
  },
  {
   "cell_type": "code",
   "execution_count": null,
   "id": "f1aa80ff",
   "metadata": {},
   "outputs": [
    {
     "name": "stdout",
     "output_type": "stream",
     "text": [
      "15\n"
     ]
    }
   ],
   "source": [
    "n=int(input())\n",
    "s=0\n",
    "for i in range(n+1):\n",
    "    s+=i\n",
    "print(s)"
   ]
  },
  {
   "cell_type": "markdown",
   "id": "06e97a64",
   "metadata": {},
   "source": [
    "W4A2 \n",
    "[PrimeNumber] \n",
    "VIết chương trình nhập vào một số tới khi được một số nguyên dương thì thôi. \n",
    "Kiểm tra số này có phải là số nguyên tố hay không? "
   ]
  },
  {
   "cell_type": "code",
   "execution_count": null,
   "id": "6b86affa",
   "metadata": {},
   "outputs": [
    {
     "name": "stdout",
     "output_type": "stream",
     "text": [
      "ok\n",
      "khong la so nguyen to\n"
     ]
    }
   ],
   "source": [
    "def nto(n):\n",
    "    if(n<2):\n",
    "        return False\n",
    "    elif n==2 or n==3:\n",
    "        return True\n",
    "    else:\n",
    "        for i in range(2,int((n)**0.5)+1):\n",
    "            if(n%i==0):return False\n",
    "    return True\n",
    "try:\n",
    "    n=int(input())\n",
    "    if(n>0):\n",
    "        print(\"ok\")\n",
    "        if(nto(n)):print(\"la so nguyen to\")\n",
    "        else : print(\"khong la so nguyen to\")\n",
    "    else:\n",
    "        print(\"Khong phải số dương\")\n",
    "\n",
    "except ValueError:\n",
    "    print(\"loi\")"
   ]
  },
  {
   "cell_type": "markdown",
   "id": "67d43c06",
   "metadata": {},
   "source": [
    "W4A3 \n",
    "[Factorial]  \n",
    "Viết chương trình tính giai thừa của một số nguyên n cho trước (n!=1×2×…×n) \n",
    "với 0 < n < 100. "
   ]
  },
  {
   "cell_type": "code",
   "execution_count": null,
   "id": "b17a5796",
   "metadata": {},
   "outputs": [
    {
     "name": "stdout",
     "output_type": "stream",
     "text": [
      "933262154439441526816992388562667004907159682643816214685929638952175999932299156089414639761565182862536979208272237582511852109168640000000000000000000000\n"
     ]
    }
   ],
   "source": [
    "n=int(input())\n",
    "gt=1\n",
    "if 0<n<100:\n",
    "    for i in range(2,n+1):\n",
    "        gt*=i\n",
    "    print(gt)\n",
    "else: print(\"khong hop le\")"
   ]
  },
  {
   "cell_type": "markdown",
   "id": "73d74869",
   "metadata": {},
   "source": [
    "W4A4 \n",
    ".[CountingDigits] \n",
    "Viết chương trình nhập vào một số nguyên n và in ra màn hình số chữ số (trừ dấu) \n",
    "của số đó. Không dùng kiểu dữ liệu string. "
   ]
  },
  {
   "cell_type": "code",
   "execution_count": 7,
   "id": "777f4a50",
   "metadata": {},
   "outputs": [
    {
     "name": "stdout",
     "output_type": "stream",
     "text": [
      "1\n"
     ]
    }
   ],
   "source": [
    "n=int(input())\n",
    "dem=1\n",
    "n=abs(n)\n",
    "while n>=10:\n",
    "    n=int(n/10)\n",
    "    dem+=1\n",
    "print(dem)"
   ]
  },
  {
   "cell_type": "markdown",
   "id": "4993c42f",
   "metadata": {},
   "source": [
    "W4A5 [MeaningOfLife] \n",
    "Khi Douglas Adam viết cuốn sách, The Hitchhiker’s Guide to the Galaxy, ông ta đã \n",
    "thêm vào đó một vài lời nói đùa, và theo năm tháng nó đã trở nên nổi tiếng hơn cả \n",
    "bản thân cuốn tiểu thuyết: “Câu trả lời cho câu hỏi lớn nhất về sự sống, về vũ trụ và \n",
    "tất cả mọi thứ là 42.” Một vài người cuồng tín đã tốn hàng năm trời, với mọi cố \n",
    "gắng nỗ lực để gán ghép ý nghĩa, biểu trưng cho con số 42 và các “sự cố” liên quan \n",
    "đến nó. \n",
    "Với mong muốn hái ra tiền từ sư “ám ảnh” điên rồ này, một cuốn sách mới vừa \n",
    "được xuất bản, 42: Douglas Adams’ Amazingly Accurate Answer to Life, the \n",
    "Universe and Everything. Cuốn sách được phát hành trùng với kỉ niệm 10 năm ngày \n",
    "mất của Adams. \n",
    "“Câu trả lời rất đơn giản”, như Adams đã nói, “Chỉ là một trò đùa. Tôi cần một con \n",
    "số, một con số be bé, một con số tầm thường, và tôi đã chọn nó. Hai chữ số, bội của \n",
    "13, một con số hoàn toàn vô nghĩa đối với mấy tay thầy chùa. Tôi ngồi trên bàn làm \n",
    "việc, ngắm khu vườn và nghĩ rằng số 42 sẽ được việc lắm đây. Tôi gõ nó ra. Và \n",
    "hết.” \n",
    "Xuyên suốt lịch sử, các con số được gán cho những ý nghĩa đặc biệt nào đó. Plato \n",
    "gọi việc nghiên cứu các biểu tượng số học” là level cao nhất của tri thức. Trong khi \n",
    "Pythagoras tin rằng các con số đều có linh hồn cũng như sức mạnh kì diệu. \n",
    "Trong khi đó, hàng triệu người hâm hộ Hitchhiker cho đến ngày nay vẫn kiên trì \n",
    "giải mã những thứ họ cho rằng đó là những động cơ bí mật của Adams. \n",
    "Hãy viết một chương trình nhận vào một số nguyên dương n và một dãy gồm n số \n",
    "nguyên. Nếu n số nguyên đó có số 42 thì in ra màn hình dòng chữ \"I′ve found the \n",
    "meaning of life!\", ngược lại in ra dòng chữ \"It′s a joke!\"."
   ]
  },
  {
   "cell_type": "code",
   "execution_count": null,
   "id": "53185ca8",
   "metadata": {},
   "outputs": [
    {
     "name": "stdout",
     "output_type": "stream",
     "text": [
      "I′ve found the meaning of life!\n"
     ]
    }
   ],
   "source": [
    "n = int(input())\n",
    "x=False\n",
    "for _ in range(n+1):\n",
    "    a=int(input())\n",
    "    if(a==42):\n",
    "        x=True\n",
    "if x: print(\"I′ve found the meaning of life!\")   \n",
    "else: print(\"It′s a joke!\")\n"
   ]
  },
  {
   "cell_type": "markdown",
   "id": "1e0dc330",
   "metadata": {},
   "source": [
    "W4A6 \n",
    "\"[SumPrimesInRange] \n",
    "Nhập hai số nguyên dương a, b (a ≤ b). Hãy tính tổng các số nguyên tố trong đoạn \n",
    "[a, b]. Mỗi dòng là một bộ test (a b).\" "
   ]
  },
  {
   "cell_type": "code",
   "execution_count": 12,
   "id": "cb05786f",
   "metadata": {},
   "outputs": [
    {
     "name": "stdout",
     "output_type": "stream",
     "text": [
      "17\n",
      "loi\n"
     ]
    }
   ],
   "source": [
    "try:\n",
    "    while 1:\n",
    "        a,b=map(int,input().split())\n",
    "        s=0\n",
    "        for i in range(a,b+1):\n",
    "            if i<2 :continue\n",
    "            if i==2 or i==3:\n",
    "                s+=i\n",
    "                continue\n",
    "            check=1\n",
    "            for j in range(2,int(i**0.5)+1):\n",
    "                if(i%j==0):\n",
    "                    check=0\n",
    "                    break\n",
    "            if check:s+=i\n",
    "        print(s)\n",
    "except ValueError:\n",
    "    print(\"loi\")\n",
    "        "
   ]
  },
  {
   "cell_type": "markdown",
   "id": "3457f6f9",
   "metadata": {},
   "source": [
    "W4A7 \n",
    "\"[LargestPrimeFactor] \n",
    "Nhập vào số nguyên dương n (n ≥ 2). Hãy in ra ước số nguyên tố lớn nhất của n.\""
   ]
  },
  {
   "cell_type": "code",
   "execution_count": 22,
   "id": "4dfb2a4a",
   "metadata": {},
   "outputs": [
    {
     "name": "stdout",
     "output_type": "stream",
     "text": [
      "5\n"
     ]
    }
   ],
   "source": [
    "from math import isqrt\n",
    "n=0\n",
    "while n<=2:\n",
    "    n=int(input())\n",
    "x=0\n",
    "for i in range(2,n+1):\n",
    "    if(n%i==0):\n",
    "        if i<2: continue\n",
    "        if i==2 or i==3: x=max(x,i)\n",
    "        check=1\n",
    "        for j in range(2,isqrt(i)+1):\n",
    "            if(i%j==0):\n",
    "                check=0\n",
    "                break\n",
    "        if check==1: x=max(x,i)   \n",
    "print(x)  "
   ]
  },
  {
   "cell_type": "markdown",
   "id": "d0f49cd2",
   "metadata": {},
   "source": [
    "W4A8 \n",
    "[ReverseAddPalindrome] \n",
    "Nhập số nguyên dương n. Lặp lại phép toán n = n + reverse(n) cho đến khi n là số \n",
    "đối xứng (palindrome). In ra số bước và giá trị palindrome thu được."
   ]
  },
  {
   "cell_type": "code",
   "execution_count": 19,
   "id": "9b98d7ac",
   "metadata": {},
   "outputs": [
    {
     "name": "stdout",
     "output_type": "stream",
     "text": [
      "24 8813200023188\n"
     ]
    }
   ],
   "source": [
    "# đảo sâu r=s[::-1]\n",
    "n=int(input())\n",
    "check=0\n",
    "dem=0\n",
    "while check==0:\n",
    "    tmp=n\n",
    "    m=0\n",
    "    while tmp>0:\n",
    "        m=m*10+tmp%10\n",
    "        tmp=tmp//10\n",
    "    n=n+m\n",
    "    s=str(n)\n",
    "    a=len(s)\n",
    "    check=1\n",
    "    for i in range(0,a//2):\n",
    "        if(s[i]!=s[a-1-i]):\n",
    "            check=0\n",
    "            break\n",
    "    dem+=1\n",
    "    if(dem>=1000):break\n",
    "if dem == 1000: print(\"khong tim duoc\")\n",
    "else:\n",
    "    print(dem,n)"
   ]
  },
  {
   "cell_type": "markdown",
   "id": "b887f9b2",
   "metadata": {},
   "source": [
    "W4A9 \n",
    "[PerfectSquaresDistinctDigits] \n",
    "Nhập vào số nguyên dương n. In ra tất cả các số chính phương ≤ n có các chữ số \n",
    "đôi một khác nhau (in theo thứ tự tăng dần, cùng hàng, cách nhau bởi một dấu \n",
    "cách). Nếu không có, in ra (no number). "
   ]
  },
  {
   "cell_type": "code",
   "execution_count": 3,
   "id": "5037083b",
   "metadata": {},
   "outputs": [
    {
     "name": "stdout",
     "output_type": "stream",
     "text": [
      "0 1 4 9 16 25 36 49 64 81 169 196 256 289 324 361 529 576 625 729 784 841 961 1024 1089 1296 1369 1764 1849 1936 2304 2401 2601 2704 2809 2916 3025 3249 3481 3721 4096 4356 4761 5041 5184 5329 5476 6084 6241 6724 7056 7396 7569 7921 8649 9025 9216 9604 9801 "
     ]
    }
   ],
   "source": [
    "from math import isqrt\n",
    "n=int(input())\n",
    "print(0,1,end=\" \")\n",
    "for i in range(2,isqrt(n)+1):\n",
    "    c=1\n",
    "    if(i*i<=n):\n",
    "        s=str(i*i)\n",
    "        a=len(s)\n",
    "        if(a>10):\n",
    "            break\n",
    "        elif a==1: c=1\n",
    "        else:\n",
    "            for x in range(0,a):\n",
    "                for j in range(x+1,a):\n",
    "                    if s[x]==s[j]:\n",
    "                        c=0\n",
    "                        break\n",
    "                if c==0:break\n",
    "    if c==1: print(i*i,end=\" \")\n"
   ]
  },
  {
   "cell_type": "markdown",
   "id": "28b0cd96",
   "metadata": {},
   "source": [
    "W4A10 \n",
    "\"[LongestCollatzUpToN] \n",
    "Nhập vào số nguyên dương n. Tìm số x trong [1, n] có độ dài dãy Collatz lớn nhất \n",
    "và in ra x cùng độ dài dãy tương ứng (x L). Nếu có nhiều số cùng độ dài, chọn số \n",
    "nhỏ nhất.\" "
   ]
  },
  {
   "cell_type": "code",
   "execution_count": 4,
   "id": "0b782a5c",
   "metadata": {},
   "outputs": [
    {
     "name": "stdout",
     "output_type": "stream",
     "text": [
      "9 20\n"
     ]
    }
   ],
   "source": [
    "x=int(input())\n",
    "a=0\n",
    "ans=0\n",
    "for n in range(1,x+1):\n",
    "    l=1\n",
    "    tmp=n\n",
    "    while n!=1:\n",
    "        if(n%2==0):n/=2\n",
    "        else: n=3*n+1\n",
    "        l+=1\n",
    "    if l>ans:\n",
    "        a=tmp\n",
    "        ans=l\n",
    "print(a,ans)\n",
    "\n"
   ]
  },
  {
   "cell_type": "markdown",
   "id": "bc70a609",
   "metadata": {},
   "source": [
    "W4A11 \n",
    "[EvenDivisors] \n",
    "Viết chương trình đếm số lượng ước số chẵn của số nguyên dương n với n < 10^6."
   ]
  },
  {
   "cell_type": "code",
   "execution_count": 11,
   "id": "9cd11f7f",
   "metadata": {},
   "outputs": [
    {
     "name": "stdout",
     "output_type": "stream",
     "text": [
      "3\n"
     ]
    }
   ],
   "source": [
    "from math import isqrt\n",
    "try:\n",
    "    n=int(input())\n",
    "    while n>=10**6:\n",
    "        n=int(input(\"nhap lai\"))\n",
    "    \n",
    "    if n%2!=0:print(0)\n",
    "    else:\n",
    "        dem=0\n",
    "        for i in range(2,isqrt(n)+1):\n",
    "            if n%i==0:\n",
    "                if i%2==0:\n",
    "                    dem+=1\n",
    "                    if n//i!=i and (n//i)%2==0:\n",
    "                        dem+=1\n",
    "        print(dem)\n",
    "except ValueError:\n",
    "    print(\"loi\")\n"
   ]
  },
  {
   "cell_type": "markdown",
   "id": "afdf14ea",
   "metadata": {},
   "source": [
    "W4A12 \n",
    "[Interest] \n",
    "Một người có tài khoản tiết kiệm ở ngân hàng và gửi vào X đồng với lãi suất là \n",
    "0.7% mỗi tháng. Viết chương trình tính số tiền sau N tháng người ấy rút được (cả \n",
    "gốc và lãi, bỏ qua phần lẻ thập phân). "
   ]
  },
  {
   "cell_type": "code",
   "execution_count": 2,
   "id": "03ff6794",
   "metadata": {},
   "outputs": [
    {
     "name": "stdout",
     "output_type": "stream",
     "text": [
      "20\n"
     ]
    }
   ],
   "source": [
    "x=int(input())\n",
    "n=int(input())\n",
    "print(int(x*(1+0.7/100)**n))"
   ]
  },
  {
   "cell_type": "markdown",
   "id": "e5766d9a",
   "metadata": {},
   "source": [
    "W4A13 \n",
    "[ClosePairNumber] \n",
    "Hai số nguyên dương tạo thành một cặp số thân thiết khi chúng tuân theo quy luật: \n",
    "Số này bằng tổng tất cả các ước của số kia (trừ chính nó) và ngược lại. \n",
    "Ví dụ 220 và 284 là một cặp số thân thiết \n",
    "220 ngoài chính nó ra, nó còn có 11 ước số khác là: 1, 2, 4, 5, 10, 11, 20, 44, 55, \n",
    "110. Tổng của 11 ước này cho chúng ta 284 \n",
    "284 ngoài bản thân nó, còn có 5 ước số khác là: 1, 2, 4, 71, 142. Tổng của chúng \n",
    "vừa đúng bằng 220 \n",
    "Nhập hai số từ bàn phím và kiểm tra xem chúng có phải là cặp số thân thiết không. \n",
    "Nếu có, in ra màn hình \"true\", ngược lại, in ra \"false\" "
   ]
  },
  {
   "cell_type": "code",
   "execution_count": null,
   "id": "7d1d4ea6",
   "metadata": {},
   "outputs": [
    {
     "name": "stdout",
     "output_type": "stream",
     "text": [
      "false\n"
     ]
    }
   ],
   "source": [
    "from math import isqrt\n",
    "a,b=map(int,input().split())\n",
    "if(a<0 or b<0):print(\"false\")\n",
    "else:\n",
    "    c=1\n",
    "    d=1\n",
    "    if a<=1:c=0\n",
    "    if b<=1: d=0\n",
    "    for i in range(2,isqrt(a)+1):\n",
    "        if(a%i==0):\n",
    "            c+=i\n",
    "            if a//i!=i:\n",
    "                c+=(a//i)\n",
    "    if c==b:\n",
    "        for i in range(2,isqrt(b)+1):\n",
    "            if(b%i==0):\n",
    "                d+=i\n",
    "                if(b//i!=i):\n",
    "                    d+=(b//i)\n",
    "        if a==d:print(\"true\")\n",
    "        else: print(\"false\")\n",
    "    else:\n",
    "        print(\"false\")"
   ]
  },
  {
   "cell_type": "markdown",
   "id": "42436799",
   "metadata": {},
   "source": [
    "W4A14 \n",
    "[GCD] \n",
    "Cho hai số m và n là hai số nguyên dương nhập từ bàn phím. Viết chương trình \n",
    "tìm ước chung lớn nhất của hai số m và n."
   ]
  },
  {
   "cell_type": "code",
   "execution_count": null,
   "id": "7a1a1556",
   "metadata": {},
   "outputs": [
    {
     "name": "stdout",
     "output_type": "stream",
     "text": [
      "2\n",
      "12\n"
     ]
    }
   ],
   "source": [
    "m,n=map(int,input().split())\n",
    "# x=1\n",
    "# for i in range(2,min(m,n)+1):\n",
    "#     if(m%i==0 and n%i==0):\n",
    "#         x=i\n",
    "# print(x)\n",
    "\n",
    "tmp = m*n\n",
    "while m*n != 0:\n",
    "    if m > n:\n",
    "        m %= n\n",
    "    else:\n",
    "        n %= m\n",
    "ucln = m+n  \n",
    "\n",
    "print(ucln)\n",
    "# bcnn = tmp // ucln\n",
    "# print(bcnn)\n",
    "\n",
    "\n"
   ]
  },
  {
   "cell_type": "markdown",
   "id": "8353390e",
   "metadata": {},
   "source": [
    "W4A15 \n",
    "[ChickenAndDog] \n",
    "\"Vừa gà vừa chó, \n",
    "Bó lại cho tròn, \n",
    "Ba mươi sáu con, \n",
    "Một trăm chân chẵn\" \n",
    "Từ bài toán dân gian trên, mở rộng thành chương trình nhận đầu vào là tổng số \n",
    "con và tổng số chân của gà và chó. Nếu tìm được số phù hợp, in ra số lượng gà và \n",
    "số lượng chó. Ngược lại, in ra \"invalid\"."
   ]
  },
  {
   "cell_type": "code",
   "execution_count": 5,
   "id": "bca63327",
   "metadata": {},
   "outputs": [
    {
     "name": "stdout",
     "output_type": "stream",
     "text": [
      "22 14\n"
     ]
    }
   ],
   "source": [
    "m,n=map(int,input().split())\n",
    "ga=int((4*m-n)/2)\n",
    "cho=m-ga\n",
    "if ga>=0 and cho>=0 and ga*2+cho*4==n:\n",
    "    print(ga,cho)\n",
    "else : print(\"invalid\")"
   ]
  }
 ],
 "metadata": {
  "kernelspec": {
   "display_name": "Python 3",
   "language": "python",
   "name": "python3"
  },
  "language_info": {
   "codemirror_mode": {
    "name": "ipython",
    "version": 3
   },
   "file_extension": ".py",
   "mimetype": "text/x-python",
   "name": "python",
   "nbconvert_exporter": "python",
   "pygments_lexer": "ipython3",
   "version": "3.13.7"
  }
 },
 "nbformat": 4,
 "nbformat_minor": 5
}
