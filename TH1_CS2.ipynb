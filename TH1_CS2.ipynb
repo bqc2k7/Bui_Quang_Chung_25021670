{
 "cells": [
  {
   "cell_type": "code",
   "execution_count": 24,
   "id": "3fe62831-54af-4726-88dd-c04ac9c1bc72",
   "metadata": {},
   "outputs": [
    {
     "name": "stdout",
     "output_type": "stream",
     "text": [
      "chung///2\n"
     ]
    }
   ],
   "source": [
    "#w1a1\n",
    "print(\"chung\",sep=\"   \",end=\"///\")\n",
    "a = 7 \n",
    "b = 5 \n",
    "c = a - b \n",
    "print(c) \n",
    "\n",
    "\n"
   ]
  },
  {
   "cell_type": "code",
   "execution_count": 25,
   "id": "331c6870-5d25-450f-81cb-16d1aee2e502",
   "metadata": {},
   "outputs": [
    {
     "name": "stdout",
     "output_type": "stream",
     "text": [
      "Thành phố: Hà Nội -Năm: 2025\n"
     ]
    }
   ],
   "source": [
    "#w1a2\n",
    "city=\"Hà Nội\"\n",
    "year= 2025\n",
    "print(\"Thành phố:\",city,\"-Năm:\",year)"
   ]
  },
  {
   "cell_type": "code",
   "execution_count": 17,
   "id": "40a882d0-89ec-4ee5-afef-97dc46839d28",
   "metadata": {},
   "outputs": [
    {
     "name": "stdout",
     "output_type": "stream",
     "text": [
      "10\n"
     ]
    }
   ],
   "source": [
    "#w1a3\n",
    "n=4\n",
    "t=0\n",
    "for i in range(1,n+1):\n",
    "    t+=i\n",
    "print(t)"
   ]
  },
  {
   "cell_type": "code",
   "execution_count": 30,
   "id": "85edeb1e-6bd6-4fab-b5fb-e5d14680119f",
   "metadata": {},
   "outputs": [
    {
     "name": "stdout",
     "output_type": "stream",
     "text": [
      "1 là số lẻ\n",
      "2 là số chẵn\n",
      "3 là số lẻ\n",
      "4 là số chẵn\n"
     ]
    }
   ],
   "source": [
    "#w1a4\n",
    "numbers = [1, 2, 3, 4] \n",
    "for x in numbers: \n",
    "    if x % 2 == 0: \n",
    "        print(x, \"là số chẵn\") \n",
    "    else: \n",
    "        print(x, \"là số lẻ\") "
   ]
  },
  {
   "cell_type": "code",
   "execution_count": 29,
   "id": "226cb524-ec5d-4dce-9f14-ab6772664f24",
   "metadata": {},
   "outputs": [
    {
     "name": "stdout",
     "output_type": "stream",
     "text": [
      "Số phần tử trong danh sách là: 4\n"
     ]
    }
   ],
   "source": [
    "#w1a5\n",
    "animals = [\"cat\", \"dog\", \"cat\", \"bird\"] \n",
    "count = 0 \n",
    "for a in animals: \n",
    "    count += 1 \n",
    " \n",
    "print(\"Số phần tử trong danh sách là:\", count) "
   ]
  },
  {
   "cell_type": "code",
   "execution_count": null,
   "id": "1afc3841-30aa-48b6-9319-c146a0417ce4",
   "metadata": {},
   "outputs": [],
   "source": [
    "# #w1a6\n",
    "# Mình sẽ phân tích kỹ đoạn “chương trình” bạn đưa ra nhé.\n",
    "\n",
    "# ---\n",
    "\n",
    "# ### Đoạn code (dưới dạng giao diện text menu)\n",
    "\n",
    "# ```\n",
    "# === AI Prediction System ===  \n",
    "# 1) Sentiment analysis  \n",
    "# 2) Weather forecast  \n",
    "# 3) Exit  \n",
    "# Please choose an option:  \n",
    "# ```\n",
    "\n",
    "# ---\n",
    "\n",
    "# ### 1. Đây là gì?\n",
    "\n",
    "# * Đây là **một menu lựa chọn** thường gặp trong các chương trình dạng console (chạy trong terminal hoặc cmd).\n",
    "# * Nó chỉ **in ra màn hình** dòng chữ gợi ý cho người dùng, chưa hẳn là code chạy đủ chức năng.\n",
    "# * Người dùng sẽ **nhập lựa chọn** (ví dụ: `1`, `2` hoặc `3`) để chương trình tiếp tục xử lý.\n",
    "\n",
    "# ---\n",
    "\n",
    "# ### 2. Ý nghĩa từng phần\n",
    "\n",
    "# 1. **`=== AI Prediction System ===`**\n",
    "\n",
    "#    * Là tiêu đề, giới thiệu chương trình.\n",
    "#    * Thường dùng để thông báo chức năng chính: \"Hệ thống dự đoán bằng AI\".\n",
    "\n",
    "# 2. **`1) Sentiment analysis`**\n",
    "\n",
    "#    * Tùy chọn 1: phân tích cảm xúc (sentiment analysis).\n",
    "#    * Nếu người dùng nhập `1`, chương trình có thể chạy module phân tích xem văn bản là tích cực/tiêu cực/trung tính.\n",
    "\n",
    "# 3. **`2) Weather forecast`**\n",
    "\n",
    "#    * Tùy chọn 2: dự báo thời tiết.\n",
    "#    * Nếu nhập `2`, chương trình có thể gọi một mô hình dự báo (hoặc dữ liệu API thời tiết).\n",
    "\n",
    "# 4. **`3) Exit`**\n",
    "\n",
    "#    * Tùy chọn 3: thoát chương trình.\n",
    "#    * Nhập `3` thì chương trình kết thúc.\n",
    "\n",
    "# 5. **`Please choose an option:`**\n",
    "\n",
    "#    * Đây là lời nhắc (prompt) yêu cầu người dùng nhập vào lựa chọn.\n",
    "#    * Trong Python, thường đi kèm `input()` để nhận dữ liệu từ bàn phím:\n",
    "\n",
    "#      ```python\n",
    "#      choice = input(\"Please choose an option: \")\n",
    "#      ```\n",
    "\n",
    "# ---\n",
    "\n",
    "# ### 3. Vì sao có kết quả như vậy?\n",
    "\n",
    "# * Vì chương trình chỉ đang **in ra menu** bằng lệnh `print(...)`.\n",
    "# * Nếu bạn chạy nó trong Python, nó sẽ hiện y hệt những dòng chữ kia, chứ chưa xử lý gì thêm.\n",
    "# * Kết quả như vậy là đúng vì code đang mô phỏng một giao diện điều khiển dạng dòng lệnh (CLI menu).\n",
    "\n",
    "# ---\n",
    "\n",
    "# 👉 Nói cách khác: chương trình này **đang xây dựng giao diện chọn chức năng** cho người dùng, nhưng để nó thực sự hoạt động (ví dụ bấm 1 → phân tích cảm xúc), ta cần viết thêm lệnh `if/else` hoặc `match-case` để xử lý lựa chọn.\n",
    "\n",
    "# ---\n",
    "\n",
    "# Bạn có muốn mình viết luôn **phiên bản Python hoàn chỉnh** cho menu này (có input và xử lý từng lựa chọn) không?\n"
   ]
  },
  {
   "cell_type": "code",
   "execution_count": 34,
   "id": "0cd9658f-cb32-4ff4-a1f1-4a96a9a06028",
   "metadata": {},
   "outputs": [
    {
     "name": "stdout",
     "output_type": "stream",
     "text": [
      "Nhập số:  12\n"
     ]
    },
    {
     "name": "stdout",
     "output_type": "stream",
     "text": [
      "Số chẵn\n"
     ]
    }
   ],
   "source": [
    "#w1a7\n",
    "num = int(input(\"Nhập số: \") )\n",
    "if num % 2 == 0: \n",
    "    print(\"Số chẵn\") \n",
    "else :\n",
    "    print(\"Số lẻ\")"
   ]
  },
  {
   "cell_type": "code",
   "execution_count": 35,
   "id": "017b63a8-766a-4e2e-9ad0-adafcb870de7",
   "metadata": {},
   "outputs": [
    {
     "name": "stdout",
     "output_type": "stream",
     "text": [
      "AI đang học lần 1\n",
      "AI đang học lần 2\n",
      "AI đang học lần 3\n",
      "Huấn luyện xong!\n"
     ]
    }
   ],
   "source": [
    "# w1a8\n",
    "for i in range(3): \n",
    "    print(\"AI đang học lần\", i + 1) \n",
    "print(\"Huấn luyện xong!\") "
   ]
  },
  {
   "cell_type": "code",
   "execution_count": 6,
   "id": "b8a6af69-b268-4b8e-849a-61d449320209",
   "metadata": {},
   "outputs": [
    {
     "name": "stdout",
     "output_type": "stream",
     "text": [
      "Dự đoán con vật cat\n",
      "Dự đoán con vật dog\n",
      "Dự đoán con vật fish\n"
     ]
    }
   ],
   "source": [
    "# w1a9\n",
    "for x in [\"cat\", \"dog\", \"fish\"]: \n",
    "    print(\"Dự đoán con vật\", x) "
   ]
  },
  {
   "cell_type": "code",
   "execution_count": 4,
   "id": "5ea24ba8-8c6c-46fd-bae4-2af10c387477",
   "metadata": {},
   "outputs": [
    {
     "name": "stdout",
     "output_type": "stream",
     "text": [
      "=== AI Prediction System ===\n",
      "1) Sentiment analysis\n",
      "2) Weather forecast\n",
      "3) Exit\n",
      "Please choose an option:\n"
     ]
    }
   ],
   "source": [
    "# w1a10\n",
    "print( \"=== AI Prediction System ===\"  )\n",
    "print(\"1) Sentiment analysis\" ) \n",
    "print(\"2) Weather forecast\")  \n",
    "print(\"3) Exit\")\n",
    "print(\"Please choose an option:\")  "
   ]
  },
  {
   "cell_type": "code",
   "execution_count": null,
   "id": "fc559339-b9be-4d3b-bb45-7742b0290e70",
   "metadata": {},
   "outputs": [],
   "source": []
  },
  {
   "cell_type": "code",
   "execution_count": null,
   "id": "990d1e39-b2c2-4306-a6a6-3a2c730405f1",
   "metadata": {},
   "outputs": [],
   "source": []
  },
  {
   "cell_type": "code",
   "execution_count": null,
   "id": "30486c43-e345-4a85-9c39-b87559756d6d",
   "metadata": {},
   "outputs": [],
   "source": []
  },
  {
   "cell_type": "code",
   "execution_count": null,
   "id": "6897bb63-3059-4fa0-a599-82111db06f1b",
   "metadata": {},
   "outputs": [],
   "source": []
  },
  {
   "cell_type": "code",
   "execution_count": null,
   "id": "7932f9f3-e6ca-4e24-ac4c-7d65fa4d704f",
   "metadata": {},
   "outputs": [],
   "source": []
  }
 ],
 "metadata": {
  "kernelspec": {
   "display_name": "Python 3",
   "language": "python",
   "name": "python3"
  },
  "language_info": {
   "codemirror_mode": {
    "name": "ipython",
    "version": 3
   },
   "file_extension": ".py",
   "mimetype": "text/x-python",
   "name": "python",
   "nbconvert_exporter": "python",
   "pygments_lexer": "ipython3",
   "version": "3.13.7"
  }
 },
 "nbformat": 4,
 "nbformat_minor": 5
}
