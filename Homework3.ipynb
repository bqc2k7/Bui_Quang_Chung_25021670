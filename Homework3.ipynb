{
 "cells": [
  {
   "cell_type": "markdown",
   "id": "8ba0e6c3",
   "metadata": {},
   "source": [
    "Bài 1: In các số dương lẻ bé hơn 100 "
   ]
  },
  {
   "cell_type": "code",
   "execution_count": 1,
   "id": "f96ad1b1",
   "metadata": {},
   "outputs": [
    {
     "name": "stdout",
     "output_type": "stream",
     "text": [
      "1\n",
      "2\n",
      "3\n",
      "4\n",
      "5\n",
      "6\n",
      "7\n",
      "8\n",
      "9\n",
      "10\n",
      "11\n",
      "12\n",
      "13\n",
      "14\n",
      "15\n",
      "16\n",
      "17\n",
      "18\n",
      "19\n",
      "20\n",
      "21\n",
      "22\n",
      "23\n",
      "24\n",
      "25\n",
      "26\n",
      "27\n",
      "28\n",
      "29\n",
      "30\n",
      "31\n",
      "32\n",
      "33\n",
      "34\n",
      "35\n",
      "36\n",
      "37\n",
      "38\n",
      "39\n",
      "40\n",
      "41\n",
      "42\n",
      "43\n",
      "44\n",
      "45\n",
      "46\n",
      "47\n",
      "48\n",
      "49\n",
      "50\n",
      "51\n",
      "52\n",
      "53\n",
      "54\n",
      "55\n",
      "56\n",
      "57\n",
      "58\n",
      "59\n",
      "60\n",
      "61\n",
      "62\n",
      "63\n",
      "64\n",
      "65\n",
      "66\n",
      "67\n",
      "68\n",
      "69\n",
      "70\n",
      "71\n",
      "72\n",
      "73\n",
      "74\n",
      "75\n",
      "76\n",
      "77\n",
      "78\n",
      "79\n",
      "80\n",
      "81\n",
      "82\n",
      "83\n",
      "84\n",
      "85\n",
      "86\n",
      "87\n",
      "88\n",
      "89\n",
      "90\n",
      "91\n",
      "92\n",
      "93\n",
      "94\n",
      "95\n",
      "96\n",
      "97\n",
      "98\n",
      "99\n",
      "100\n"
     ]
    }
   ],
   "source": [
    "for i in range(1,101):\n",
    "    print(i)"
   ]
  },
  {
   "cell_type": "markdown",
   "id": "d94af62c",
   "metadata": {},
   "source": [
    "Bài 2: In các số dương chẵn chia hết cho 3 bé hơn 100 \n"
   ]
  },
  {
   "cell_type": "code",
   "execution_count": 2,
   "id": "589a8edb",
   "metadata": {},
   "outputs": [
    {
     "name": "stdout",
     "output_type": "stream",
     "text": [
      "6\n",
      "12\n",
      "18\n",
      "24\n",
      "30\n",
      "36\n",
      "42\n",
      "48\n",
      "54\n",
      "60\n",
      "66\n",
      "72\n",
      "78\n",
      "84\n",
      "90\n",
      "96\n"
     ]
    }
   ],
   "source": [
    "for i in range(6,100,6):\n",
    "    print(i)"
   ]
  },
  {
   "cell_type": "markdown",
   "id": "ffef9c23",
   "metadata": {},
   "source": [
    "Bài 3: Nhập vào số nguyên dương a, in ra bảng cửu chương của a "
   ]
  },
  {
   "cell_type": "code",
   "execution_count": 6,
   "id": "d8a84ed8",
   "metadata": {},
   "outputs": [
    {
     "name": "stdout",
     "output_type": "stream",
     "text": [
      "107 x 1 = 107\n",
      "107 x 2 = 214\n",
      "107 x 3 = 321\n",
      "107 x 4 = 428\n",
      "107 x 5 = 535\n",
      "107 x 6 = 642\n",
      "107 x 7 = 749\n",
      "107 x 8 = 856\n",
      "107 x 9 = 963\n",
      "107 x 10 = 1070\n"
     ]
    }
   ],
   "source": [
    "try:\n",
    "    a=int(input())\n",
    "    while(a < 0):\n",
    "        a=int(input())\n",
    "    for i in range(1,11):\n",
    "        print(f\"{a} x {i} = {a*i}\")\n",
    "except ValueError:\n",
    "    print(\"loi\")"
   ]
  },
  {
   "cell_type": "markdown",
   "id": "bc07c5b3",
   "metadata": {},
   "source": [
    "bài 4: Viết chương trình in ra hình tam giác cân có độ cao h được nhập từ bàn phím \n",
    "Ví dụ: Ta nhập h = 4: "
   ]
  },
  {
   "cell_type": "code",
   "execution_count": 13,
   "id": "8fbe163c",
   "metadata": {},
   "outputs": [
    {
     "name": "stdout",
     "output_type": "stream",
     "text": [
      "                   *                   \n",
      "                  * *                  \n",
      "                 *   *                 \n",
      "                *     *                \n",
      "               *       *               \n",
      "              *         *              \n",
      "             *           *             \n",
      "            *             *            \n",
      "           *               *           \n",
      "          *                 *          \n",
      "         *                   *         \n",
      "        *                     *        \n",
      "       *                       *       \n",
      "      *                         *      \n",
      "     *                           *     \n",
      "    *                             *    \n",
      "   *                               *   \n",
      "  *                                 *  \n",
      " *                                   * \n",
      "***************************************\n"
     ]
    }
   ],
   "source": [
    "try:\n",
    "    h=int(input())\n",
    "    if h<2:print(\"khong in ra duoc tam giac\")\n",
    "    else:\n",
    "        linefirst = ' '*(h-1) + \"*\" + ' '*(h-1)\n",
    "        lineend = \"*\" * (2*h-1)\n",
    "        print(linefirst)\n",
    "        for i in range(1,h-1):\n",
    "            space_mid = ' ' * (2*i-1)\n",
    "            # (2h-1) - 2 - (2i-1) = 2h - 2i -2 => h - i - 1\n",
    "            space_sides = ' ' * (h-i-1)\n",
    "            line = space_sides + '*' + space_mid + '*' + space_sides\n",
    "            print(line)\n",
    "        print(lineend)\n",
    "except ValueError:\n",
    "    print(\"loi\")"
   ]
  },
  {
   "cell_type": "markdown",
   "id": "973fb7f0",
   "metadata": {},
   "source": [
    "Bài 5: Nhập vào số nguyên dương n. Tính S = 1 + 2 + 3 + 4 + … + n "
   ]
  },
  {
   "cell_type": "code",
   "execution_count": 15,
   "id": "c36af7d2",
   "metadata": {},
   "outputs": [
    {
     "name": "stdout",
     "output_type": "stream",
     "text": [
      "55\n"
     ]
    }
   ],
   "source": [
    "try :\n",
    "    n=int(input())\n",
    "    while n<0:\n",
    "        n=int(input())\n",
    "    print((n+1)*n//2)\n",
    "except :\n",
    "    print(\"loi\")"
   ]
  },
  {
   "cell_type": "markdown",
   "id": "970e48ed",
   "metadata": {},
   "source": [
    "bài 6: Nhập vào số nguyên dương a, in ra tất cả các ước dương của a "
   ]
  },
  {
   "cell_type": "code",
   "execution_count": null,
   "id": "b9fa6a01",
   "metadata": {},
   "outputs": [
    {
     "name": "stdout",
     "output_type": "stream",
     "text": [
      "1\n",
      "2\n",
      "4\n",
      "5\n",
      "10\n",
      "20\n",
      "25\n",
      "50\n",
      "100\n"
     ]
    }
   ],
   "source": [
    "from math import isqrt\n",
    "# a se duong\n",
    "a=int(input())\n",
    "b=[]\n",
    "for i in range(1,isqrt(a)+1):\n",
    "    if(a%i==0):\n",
    "        print(i)\n",
    "        if(i!=(a//i)):\n",
    "            b.append(a//i)\n",
    "b.sort()\n",
    "for i in b:\n",
    "    print(i)\n"
   ]
  },
  {
   "cell_type": "markdown",
   "id": "f54bdb6e",
   "metadata": {},
   "source": [
    "Bài 7: Nhập vào số nguyên dương a, đếm số ước dương của a "
   ]
  },
  {
   "cell_type": "code",
   "execution_count": 28,
   "id": "d611ad32",
   "metadata": {},
   "outputs": [
    {
     "name": "stdout",
     "output_type": "stream",
     "text": [
      "9\n"
     ]
    }
   ],
   "source": [
    "from math import isqrt\n",
    "# a se duong\n",
    "a=int(input())\n",
    "b=[]\n",
    "for i in range(1,isqrt(a)+1):\n",
    "    if(a%i==0):\n",
    "        b.append(i)\n",
    "        if(i!=(a//i)):\n",
    "            b.append(a//i)\n",
    "print(len(b))\n"
   ]
  },
  {
   "cell_type": "markdown",
   "id": "6f9c4256",
   "metadata": {},
   "source": [
    "Bài 8: Nhập vào số nguyên dương a và b, in toàn bộ ước dương chung của a và b \n"
   ]
  },
  {
   "cell_type": "code",
   "execution_count": 3,
   "id": "48fde492",
   "metadata": {},
   "outputs": [
    {
     "name": "stdout",
     "output_type": "stream",
     "text": [
      "1\n",
      "5\n",
      "25\n"
     ]
    }
   ],
   "source": [
    "from math import isqrt\n",
    "a,b=map(int,input().split())\n",
    "while a*b!=0:\n",
    "    if a>b:\n",
    "        a=a%b\n",
    "    else:\n",
    "        b=b%a\n",
    "gcd=a+b\n",
    "a=[]\n",
    "for i in range(1,isqrt(gcd)+1):\n",
    "    if(gcd%i==0):\n",
    "        a.append(i)\n",
    "        if(gcd//i!=i):\n",
    "            a.append(gcd//i)\n",
    "a.sort()\n",
    "for i in a:\n",
    "    print(i)\n",
    "        \n",
    "\n"
   ]
  },
  {
   "cell_type": "markdown",
   "id": "77441872",
   "metadata": {},
   "source": [
    "Bài 9: Nhập vào số nguyên dương a, kiểm tra xem a có phải là số chính phương hay \n",
    "không? Số chính phương là số có căn bậc hai là một số nguyên VD: 1, 4, 9, 16, 25…. "
   ]
  },
  {
   "cell_type": "code",
   "execution_count": 5,
   "id": "dcc49e1c",
   "metadata": {},
   "outputs": [
    {
     "name": "stdout",
     "output_type": "stream",
     "text": [
      "khong la so chinh phuong\n"
     ]
    }
   ],
   "source": [
    "from math import isqrt\n",
    "a=int(input())\n",
    "if isqrt(a)**2==a:\n",
    "    print(\"la so chinh phuong\")\n",
    "else:\n",
    "    print(\"khong la so chinh phuong\")"
   ]
  },
  {
   "cell_type": "markdown",
   "id": "0bdaff85",
   "metadata": {},
   "source": [
    "Bài 10: Nhập vào số nguyên dương a, kiểm tra xem a có phải là số hoàn hảo hay không. \n",
    "Số hoàn hảo là số có tổng các ước (ước nhỏ hơn nó) bằng chính nó, VD: số 6, 28… "
   ]
  },
  {
   "cell_type": "code",
   "execution_count": 13,
   "id": "d9183b44",
   "metadata": {},
   "outputs": [
    {
     "name": "stdout",
     "output_type": "stream",
     "text": [
      "la so hoan hao\n"
     ]
    }
   ],
   "source": [
    "from math import isqrt\n",
    "a=int(input())\n",
    "sum=1\n",
    "for i in range(2,isqrt(a)+1):\n",
    "    if a%i==0:\n",
    "        sum+=i\n",
    "        if a//i!=i:\n",
    "            sum+=a//i\n",
    "if sum==a:\n",
    "    print(\"la so hoan hao\")\n",
    "else: print(\"khong la so hoan hao\")       "
   ]
  },
  {
   "cell_type": "markdown",
   "id": "699d4499",
   "metadata": {},
   "source": [
    "Bài 11: Nhập vào số nguyên a, nếu nhập số âm thì yêu cầu nhập lại cho đến khi người \n",
    "dùng nhập đúng số dương. Nếu người dùng nhập đúng số dương thì in ra “Bạn nhập \n",
    "đúng quy tắc” và dừng chương trình."
   ]
  },
  {
   "cell_type": "code",
   "execution_count": 14,
   "id": "901ffd6a",
   "metadata": {},
   "outputs": [
    {
     "name": "stdout",
     "output_type": "stream",
     "text": [
      "ban nhap dung quy tac\n"
     ]
    }
   ],
   "source": [
    "a=int(input())\n",
    "while a<0:\n",
    "    a=int(input(\"nhap lai\"))\n",
    "    if a>0:\n",
    "        print(\"ban nhap dung quy tac\")\n",
    "        break"
   ]
  },
  {
   "cell_type": "markdown",
   "id": "c9c0b986",
   "metadata": {},
   "source": [
    "bài 12: Nhập số nguyên dương n, Cho S(k) = 1 + 2 + 3 + … + k. Tìm k sao cho S(k) \n",
    "lớn nhất nhưng nhỏ hơn n "
   ]
  },
  {
   "cell_type": "code",
   "execution_count": 21,
   "id": "16fb371d",
   "metadata": {},
   "outputs": [
    {
     "name": "stdout",
     "output_type": "stream",
     "text": [
      "10\n"
     ]
    }
   ],
   "source": [
    "from math import sqrt\n",
    "n=int(input())\n",
    "# k(k+1)/2<=n\n",
    "# k^2+k<=2n\n",
    "# dt=1+-4*1*-2n=1+8n\n",
    "# k=(-1+can dt)\n",
    "dt=1+8*n\n",
    "k=int((-1+sqrt(dt))/2)\n",
    "print(k)\n"
   ]
  },
  {
   "cell_type": "markdown",
   "id": "b5b175b4",
   "metadata": {},
   "source": [
    "Bài 13: Nhập vào số nguyên dương A, tìm n nhỏ nhất sao cho \n",
    "1 + 1/2 + 1/3 + 1/4 + ... + 1/n > A "
   ]
  },
  {
   "cell_type": "code",
   "execution_count": 28,
   "id": "067ec3e0",
   "metadata": {},
   "outputs": [
    {
     "name": "stdout",
     "output_type": "stream",
     "text": [
      "82\n"
     ]
    }
   ],
   "source": [
    "a=int(input())\n",
    "sum=0\n",
    "n=1\n",
    "while sum<a:\n",
    "    # print(sum)\n",
    "    sum=1/n+sum\n",
    "    n+=1\n",
    "print(n-2)\n"
   ]
  },
  {
   "cell_type": "markdown",
   "id": "4666a2f9",
   "metadata": {},
   "source": [
    "Bài 14: Nhập vào một dãy số nguyên, dừng nhập khi người dùng nhập -1. Sau khi nhập \n",
    "xong, in số lớn nhất, số nhỏ nhất trong những số vừa nhập. KHÔNG ĐƯỢC dùng mảng"
   ]
  },
  {
   "cell_type": "code",
   "execution_count": 30,
   "id": "41500e0e",
   "metadata": {},
   "outputs": [
    {
     "name": "stdout",
     "output_type": "stream",
     "text": [
      "15 -3\n"
     ]
    }
   ],
   "source": [
    "a=int(input())\n",
    "Min=Max=a\n",
    "while a!=-1:\n",
    "    a=int(input())\n",
    "    Min=min(Min,a)\n",
    "    Max=max(Max,a)\n",
    "print(Max,Min)"
   ]
  },
  {
   "cell_type": "markdown",
   "id": "3e4a7c5c",
   "metadata": {},
   "source": [
    "Bài 15: Nhập vào số nguyên dương n, đếm xem n có bao nhiêu chữ số. Làm bằng nhiều \n",
    "cách nhất có thể, ko dùng mảng. "
   ]
  },
  {
   "cell_type": "code",
   "execution_count": 43,
   "id": "a940e91b",
   "metadata": {},
   "outputs": [
    {
     "name": "stdout",
     "output_type": "stream",
     "text": [
      "14\n"
     ]
    }
   ],
   "source": [
    "n=int(input())\n",
    "dem=0\n",
    "while(n>0):\n",
    "    n=n//10\n",
    "    dem+=1\n",
    "print(dem)"
   ]
  },
  {
   "cell_type": "markdown",
   "id": "33e4da8f",
   "metadata": {},
   "source": [
    "Bài 16: Nhập vào số nguyên dương n, đếm xem n có bao nhiêu chữ số chẵn, bao nhiêu \n",
    "chữ số lẻ "
   ]
  },
  {
   "cell_type": "code",
   "execution_count": 44,
   "id": "9b63dd99",
   "metadata": {},
   "outputs": [
    {
     "name": "stdout",
     "output_type": "stream",
     "text": [
      "so chan la 4 so le la 5\n"
     ]
    }
   ],
   "source": [
    "n=int(input())\n",
    "c=0\n",
    "l=0\n",
    "while n>0:\n",
    "    a=n%10\n",
    "    if a%2==0: c+=1\n",
    "    else: l+=1\n",
    "    n=n//10\n",
    "print(f\"so chan la {c} so le la {l}\")"
   ]
  },
  {
   "cell_type": "markdown",
   "id": "6b415f4e",
   "metadata": {},
   "source": [
    "Bài 17: Nhập vào số nguyên dương n, tính tổng các chữ số của n "
   ]
  },
  {
   "cell_type": "code",
   "execution_count": 46,
   "id": "ba161002",
   "metadata": {},
   "outputs": [
    {
     "name": "stdout",
     "output_type": "stream",
     "text": [
      "6\n"
     ]
    }
   ],
   "source": [
    "n=int(input())\n",
    "sum=0\n",
    "while n>0:\n",
    "    sum=sum+n%10\n",
    "    n//=10\n",
    "print (sum)"
   ]
  },
  {
   "cell_type": "markdown",
   "id": "6c7b864e",
   "metadata": {},
   "source": [
    "Bài 18: Nhập vào một số nguyên dương n, kiểm tra xem n có phải là số dạng 3^k hay \n",
    "không "
   ]
  },
  {
   "cell_type": "code",
   "execution_count": 53,
   "id": "3d537606",
   "metadata": {},
   "outputs": [
    {
     "name": "stdout",
     "output_type": "stream",
     "text": [
      "4\n"
     ]
    }
   ],
   "source": [
    "n=int(input())\n",
    "k=0\n",
    "while True:\n",
    "    if 3**k==n:\n",
    "        print(k)\n",
    "        break\n",
    "    else:\n",
    "        k+=1\n",
    "    if 3**k>n:\n",
    "        print(\"khong co dang 3^k\")\n",
    "        break"
   ]
  },
  {
   "cell_type": "markdown",
   "id": "2f0d4b07",
   "metadata": {},
   "source": [
    "Bài 19: Dãy số fibonacci là dãy số được định nghĩa như sau: 1, 1, 2, 3, 5, 8, 13,... với số \n",
    "kế tiếp sẽ bằng tổng hai số trước đó. Nhập vào số nguyên dương A, hãy tìm số trong \n",
    "dãy số fibonacci lớn nhất nhưng không vượt quá A "
   ]
  },
  {
   "cell_type": "code",
   "execution_count": 66,
   "id": "7e6bf7ed",
   "metadata": {},
   "outputs": [
    {
     "name": "stdout",
     "output_type": "stream",
     "text": [
      "832040\n"
     ]
    }
   ],
   "source": [
    "f1=1\n",
    "f2=1\n",
    "a=int(input())\n",
    "x=0\n",
    "while a>=f2:\n",
    "    x=f2\n",
    "    f2=f1+f2\n",
    "    f1=x\n",
    "print(x)\n"
   ]
  },
  {
   "cell_type": "markdown",
   "id": "668cfcf1",
   "metadata": {},
   "source": [
    "Bài 20: Nhập vào số nguyên dương n, đếm xem n có bao nhiêu chữ số là số nguyên tố. "
   ]
  },
  {
   "cell_type": "code",
   "execution_count": 68,
   "id": "cc389320",
   "metadata": {},
   "outputs": [
    {
     "name": "stdout",
     "output_type": "stream",
     "text": [
      "3\n"
     ]
    }
   ],
   "source": [
    "n=int(input())\n",
    "dem=0\n",
    "while n>0:\n",
    "    a=n%10\n",
    "    if a in (2,3,5,7):\n",
    "        dem+=1\n",
    "    n//=10\n",
    "print(dem)"
   ]
  }
 ],
 "metadata": {
  "kernelspec": {
   "display_name": "Python 3",
   "language": "python",
   "name": "python3"
  },
  "language_info": {
   "codemirror_mode": {
    "name": "ipython",
    "version": 3
   },
   "file_extension": ".py",
   "mimetype": "text/x-python",
   "name": "python",
   "nbconvert_exporter": "python",
   "pygments_lexer": "ipython3",
   "version": "3.13.7"
  }
 },
 "nbformat": 4,
 "nbformat_minor": 5
}
