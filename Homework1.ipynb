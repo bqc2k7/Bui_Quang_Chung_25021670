{
 "cells": [
  {
   "cell_type": "code",
   "execution_count": 4,
   "metadata": {
    "colab": {
     "base_uri": "https://localhost:8080/"
    },
    "executionInfo": {
     "elapsed": 1358,
     "status": "ok",
     "timestamp": 1758272062775,
     "user": {
      "displayName": "Bùi Quang Chung",
      "userId": "07909724792779520150"
     },
     "user_tz": -420
    },
    "id": "RYxoXMYjKVUk",
    "outputId": "01c8849c-af79-40f9-bca9-e27bb0b73b67"
   },
   "outputs": [
    {
     "name": "stdout",
     "output_type": "stream",
     "text": [
      "20\n"
     ]
    }
   ],
   "source": [
    "# bai1\n",
    "c=int(input())\n",
    "print(2*c)"
   ]
  },
  {
   "cell_type": "code",
   "execution_count": 5,
   "metadata": {
    "colab": {
     "base_uri": "https://localhost:8080/"
    },
    "executionInfo": {
     "elapsed": 5552,
     "status": "ok",
     "timestamp": 1758273786875,
     "user": {
      "displayName": "Bùi Quang Chung",
      "userId": "07909724792779520150"
     },
     "user_tz": -420
    },
    "id": "J8ZPJqHbLn7P",
    "outputId": "a68033eb-2c8b-47fb-da17-91234ba65cd7"
   },
   "outputs": [
    {
     "name": "stdout",
     "output_type": "stream",
     "text": [
      "246.96\n"
     ]
    }
   ],
   "source": [
    "# bai2\n",
    "a, b = map(int, input().split())\n",
    "print(f'{(a*b - 3.14*a*a/4):.2f}')"
   ]
  },
  {
   "cell_type": "code",
   "execution_count": null,
   "metadata": {
    "colab": {
     "base_uri": "https://localhost:8080/"
    },
    "executionInfo": {
     "elapsed": 3406,
     "status": "ok",
     "timestamp": 1758273043992,
     "user": {
      "displayName": "Bùi Quang Chung",
      "userId": "07909724792779520150"
     },
     "user_tz": -420
    },
    "id": "Eg0lY3hnNMA5",
    "outputId": "f17da3bb-0f59-4d8a-d821-45588c9a1fcc"
   },
   "outputs": [],
   "source": [
    "# bai3\n",
    "c=str(input())\n",
    "if len(c) != 1:\n",
    "    print(\"nhap lai\")\n",
    "else:\n",
    "    if('a'<=c<='z'):\n",
    "        print(chr(ord(c)-32))\n",
    "        # c.upper()\n",
    "    elif('A'<=c<='Z'):\n",
    "        print(chr(ord(c)+32))\n",
    "        # c.lower()\n",
    "    else:\n",
    "        print(\"khong phai chu cai\")\n",
    "        "
   ]
  },
  {
   "cell_type": "code",
   "execution_count": 12,
   "metadata": {
    "colab": {
     "base_uri": "https://localhost:8080/"
    },
    "executionInfo": {
     "elapsed": 2724,
     "status": "ok",
     "timestamp": 1758273285304,
     "user": {
      "displayName": "Bùi Quang Chung",
      "userId": "07909724792779520150"
     },
     "user_tz": -420
    },
    "id": "hRAYddRBPW-6",
    "outputId": "844a913e-f25e-4100-fc80-0ad7413d72e8"
   },
   "outputs": [
    {
     "name": "stdout",
     "output_type": "stream",
     "text": [
      "f là kí tu alphabet\n"
     ]
    }
   ],
   "source": [
    "# bai4\n",
    "c=str(input())\n",
    "if len(c) != 1:\n",
    "    print(f'{c} không phải là kí tu alphabet')\n",
    "else:\n",
    "    if(c>='a' and c<='z'):\n",
    "        print(f'{c} là kí tu alphabet')\n",
    "    elif(c>='A'and c<='Z'):\n",
    "        print(f'{c} là kí tu alphabet')\n",
    "        # có thể dùng c.isalpha() để kiểm tra chữ cái\n",
    "    else:\n",
    "        print(f'{c} không phải là kí tu alphabet')"
   ]
  },
  {
   "cell_type": "code",
   "execution_count": null,
   "metadata": {
    "colab": {
     "base_uri": "https://localhost:8080/"
    },
    "executionInfo": {
     "elapsed": 1012,
     "status": "ok",
     "timestamp": 1758273530196,
     "user": {
      "displayName": "Bùi Quang Chung",
      "userId": "07909724792779520150"
     },
     "user_tz": -420
    },
    "id": "6nxxckEdQSEC",
    "outputId": "aa8b6b1f-7489-4c59-c141-91b1d950f5b6"
   },
   "outputs": [
    {
     "name": "stdout",
     "output_type": "stream",
     "text": [
      "M\n",
      "l\n"
     ]
    }
   ],
   "source": [
    "# bai5\n",
    "c=str(input())\n",
    "if(c=='A'):\n",
    "  print(\"khong co chu cai lien truoc\")\n",
    "else:\n",
    "  print(chr(ord(c)-1+32))"
   ]
  },
  {
   "cell_type": "markdown",
   "metadata": {},
   "source": [
    "Bài 6. Nhập vào 3 số a, b, c. Kiểm tra xem đây có phải là cạnh của 1 tam giác không, \n",
    "nếu đúng thì tính diện tích của tam giác đó, in ra với 1 chữ số phần thập phân, nếu nó \n",
    "không phải 3 cạnh của tam giác thì in ra “Khong phai 3 canh cua tam giac”. "
   ]
  },
  {
   "cell_type": "code",
   "execution_count": null,
   "metadata": {
    "colab": {
     "base_uri": "https://localhost:8080/"
    },
    "executionInfo": {
     "elapsed": 2465,
     "status": "ok",
     "timestamp": 1758279859227,
     "user": {
      "displayName": "Bùi Quang Chung",
      "userId": "07909724792779520150"
     },
     "user_tz": -420
    },
    "id": "YC-WLOjzRJ0n",
    "outputId": "fed6250e-dcfa-45a3-fc59-023e0ec28b8d"
   },
   "outputs": [
    {
     "name": "stdout",
     "output_type": "stream",
     "text": [
      "3 4 5\n",
      "6.0\n"
     ]
    }
   ],
   "source": [
    "a,b,c=map(float,input().split())\n",
    "if(a+b>c and a+c>b and b+c>a):\n",
    "  p=(a+b+c)/2\n",
    "  print(f'{(p*(p-a)*(p-b)*(p-c))**0.5:.1f}')\n",
    "else:\n",
    "  print(\"Khong phai 3 canh cua tam giac\")"
   ]
  },
  {
   "cell_type": "code",
   "execution_count": null,
   "metadata": {
    "colab": {
     "base_uri": "https://localhost:8080/"
    },
    "executionInfo": {
     "elapsed": 8983,
     "status": "ok",
     "timestamp": 1758280216233,
     "user": {
      "displayName": "Bùi Quang Chung",
      "userId": "07909724792779520150"
     },
     "user_tz": -420
    },
    "id": "sG_JX4K2pXFZ",
    "outputId": "2f5cdfe5-6253-460f-a701-3bac2358db68"
   },
   "outputs": [
    {
     "name": "stdout",
     "output_type": "stream",
     "text": [
      "hovatenbuiquangchung\n",
      "t u\n"
     ]
    }
   ],
   "source": [
    "# bai7\n",
    "c=str(input())\n",
    "if(len(c)>=20):\n",
    "  print(c[4],c[8])\n",
    "else:\n",
    "  print(\"thieu tu xin nhap them\")\n",
    "# c[-1] la ki tu cuoi cung"
   ]
  },
  {
   "cell_type": "code",
   "execution_count": 14,
   "metadata": {
    "colab": {
     "base_uri": "https://localhost:8080/"
    },
    "executionInfo": {
     "elapsed": 7576,
     "status": "ok",
     "timestamp": 1758282344826,
     "user": {
      "displayName": "Bùi Quang Chung",
      "userId": "07909724792779520150"
     },
     "user_tz": -420
    },
    "id": "x2JzjgZSqsp8",
    "outputId": "e3b9d754-10a4-4a8a-e454-9c48a9e0352f"
   },
   "outputs": [
    {
     "name": "stdout",
     "output_type": "stream",
     "text": [
      "Ho va ten: asdfasd\n",
      "Tien phai tra la: 1855505\n"
     ]
    }
   ],
   "source": [
    "# bai8\n",
    "from math import ceil\n",
    "def tinh_tien(a,b):\n",
    "  hieu=b-a\n",
    "  b1,b2,b3,b4,b5,b6=(1984,2050,2380,2998,3350,3460)\n",
    "  if(hieu<=50):\n",
    "    return hieu*b1\n",
    "  elif(hieu<=100):\n",
    "    return 50*b1+(hieu-50)*b2\n",
    "  elif(hieu<=200):\n",
    "    return 50*(b1+b2)+(hieu-100)*b3\n",
    "  elif(hieu<=300):\n",
    "    return 50*(b1+b2)+100*b3+(hieu-200)*b4\n",
    "  elif(hieu<=400):\n",
    "    return 50*(b1+b2)+(b3+b4)*100+(hieu-300)*b5\n",
    "  else:\n",
    "    return 50*(b1+b2)+(b3+b4+b5)*100+(hieu-400)*b6\n",
    "def total(a,b):\n",
    "  hieu=b-a\n",
    "  tien=0\n",
    "  if(hieu>400):\n",
    "    tien+=(hieu-400)*3460\n",
    "    hieu=400\n",
    "  if(hieu>300):\n",
    "    tien+=(hieu-300)*3350\n",
    "    hieu=300\n",
    "  if(hieu>200):\n",
    "    tien+=(hieu-200)*2998\n",
    "    hieu=200\n",
    "  if(hieu>100):\n",
    "    tien+=(hieu-100)*2380\n",
    "    hieu=100\n",
    "  if(hieu>50):\n",
    "    tien+=(hieu-50)*2050\n",
    "    hieu=50\n",
    "  if(hieu>0):\n",
    "    tien+=hieu*1984\n",
    "  return tien\n",
    "c=str(input(\"Ten chu ho: \"))\n",
    "a=int(input(\"Chi phi thang truoc: \"))\n",
    "b=int(input(\"Chi phi thang nay: \"))\n",
    "print(\"Ho va ten: \"+c)\n",
    "print(f\"Tien phai tra la: {int(round(total(a,b)*1.08))}\")"
   ]
  },
  {
   "cell_type": "code",
   "execution_count": null,
   "metadata": {
    "colab": {
     "base_uri": "https://localhost:8080/"
    },
    "executionInfo": {
     "elapsed": 2287,
     "status": "ok",
     "timestamp": 1758282521202,
     "user": {
      "displayName": "Bùi Quang Chung",
      "userId": "07909724792779520150"
     },
     "user_tz": -420
    },
    "id": "h478TH7uy0rB",
    "outputId": "d3a9bcf4-af95-4a0b-d11e-08f62c312bc5"
   },
   "outputs": [
    {
     "name": "stdout",
     "output_type": "stream",
     "text": [
      "13\n",
      "so le\n"
     ]
    }
   ],
   "source": [
    "#một số bài tập khác\n",
    "# bai1\n",
    "a=int(input())\n",
    "if a%2==0:\n",
    "  print(\"so chan\")\n",
    "else:\n",
    "  print(\"so le\")\n"
   ]
  },
  {
   "cell_type": "code",
   "execution_count": null,
   "metadata": {
    "colab": {
     "base_uri": "https://localhost:8080/"
    },
    "executionInfo": {
     "elapsed": 1171,
     "status": "ok",
     "timestamp": 1758282625900,
     "user": {
      "displayName": "Bùi Quang Chung",
      "userId": "07909724792779520150"
     },
     "user_tz": -420
    },
    "id": "bmFX3e3YzhBj",
    "outputId": "a5a1f387-e1b4-464c-f3dc-e88b905f9ae1"
   },
   "outputs": [
    {
     "name": "stdout",
     "output_type": "stream",
     "text": [
      "False\n"
     ]
    }
   ],
   "source": [
    "# bai2\n",
    "a=int(input())\n",
    "print(a%10==5)\n",
    "# if a%10==5:\n",
    "#   print(\"True\")\n",
    "# else:\n",
    "#   print(\"False\")"
   ]
  },
  {
   "cell_type": "code",
   "execution_count": null,
   "metadata": {
    "id": "Fidrkb4fz628"
   },
   "outputs": [],
   "source": [
    "# bai3\n",
    "a=int(input())\n",
    "if a%15==0:\n",
    "  print(\"True\")\n",
    "else:\n",
    "  print(\"False\")"
   ]
  },
  {
   "cell_type": "code",
   "execution_count": null,
   "metadata": {
    "colab": {
     "base_uri": "https://localhost:8080/"
    },
    "executionInfo": {
     "elapsed": 14506,
     "status": "ok",
     "timestamp": 1758282737178,
     "user": {
      "displayName": "Bùi Quang Chung",
      "userId": "07909724792779520150"
     },
     "user_tz": -420
    },
    "id": "FkMjOsh5z54N",
    "outputId": "4c8b6133-81d4-4840-b80f-32c15e44acf1"
   },
   "outputs": [
    {
     "name": "stdout",
     "output_type": "stream",
     "text": [
      "2007\n",
      "du tuoi\n"
     ]
    }
   ],
   "source": [
    "# bai4\n",
    "a=int(input())\n",
    "if 2025-a>=18:\n",
    "  print(\"du tuoi\")\n",
    "else:\n",
    "  print(\"k du tuoi\")"
   ]
  },
  {
   "cell_type": "code",
   "execution_count": null,
   "metadata": {
    "colab": {
     "base_uri": "https://localhost:8080/"
    },
    "executionInfo": {
     "elapsed": 1390,
     "status": "ok",
     "timestamp": 1758282870220,
     "user": {
      "displayName": "Bùi Quang Chung",
      "userId": "07909724792779520150"
     },
     "user_tz": -420
    },
    "id": "-EFPGo950SxQ",
    "outputId": "3c5bdac4-7d3a-43c4-e3dc-882ad5c6a863"
   },
   "outputs": [
    {
     "name": "stdout",
     "output_type": "stream",
     "text": [
      "4 4\n",
      "2 so bang nhau\n"
     ]
    }
   ],
   "source": [
    "# bai5\n",
    "a,b=map(int,input().split())\n",
    "if(a==b):\n",
    "  print(\"2 so bang nhau\")\n",
    "else:print(max(a,b))"
   ]
  },
  {
   "cell_type": "code",
   "execution_count": null,
   "metadata": {
    "colab": {
     "base_uri": "https://localhost:8080/"
    },
    "executionInfo": {
     "elapsed": 750,
     "status": "ok",
     "timestamp": 1758282956335,
     "user": {
      "displayName": "Bùi Quang Chung",
      "userId": "07909724792779520150"
     },
     "user_tz": -420
    },
    "id": "nO3jQ9ng02c5",
    "outputId": "535a97a5-0c45-4976-a35e-7fb3f35ef588"
   },
   "outputs": [
    {
     "name": "stdout",
     "output_type": "stream",
     "text": [
      "m\n",
      "la chu cai\n"
     ]
    }
   ],
   "source": [
    "# bai 6\n",
    "c=str(input())\n",
    "if(c>='1'and c<='9'):print(\"la chu so\")\n",
    "else:\n",
    "  print(\"la chu cai\")"
   ]
  },
  {
   "cell_type": "code",
   "execution_count": null,
   "metadata": {
    "colab": {
     "base_uri": "https://localhost:8080/"
    },
    "executionInfo": {
     "elapsed": 1191,
     "status": "ok",
     "timestamp": 1758283079100,
     "user": {
      "displayName": "Bùi Quang Chung",
      "userId": "07909724792779520150"
     },
     "user_tz": -420
    },
    "id": "gEfspYnn1Loa",
    "outputId": "631d0ffb-e25a-42ab-cbc0-30d033d43371"
   },
   "outputs": [
    {
     "name": "stdout",
     "output_type": "stream",
     "text": [
      "0\n",
      "Yeu\n"
     ]
    }
   ],
   "source": [
    "# bai7\n",
    "a=int(input())\n",
    "if(a<5):print(\"Yeu\")\n",
    "elif a<6.5: print(\"trung binh\")\n",
    "elif a<8: print(\"kha\")\n",
    "else:print(\"gioi\")"
   ]
  },
  {
   "cell_type": "code",
   "execution_count": null,
   "metadata": {
    "colab": {
     "base_uri": "https://localhost:8080/"
    },
    "executionInfo": {
     "elapsed": 2827,
     "status": "ok",
     "timestamp": 1758365104030,
     "user": {
      "displayName": "Bùi Quang Chung",
      "userId": "07909724792779520150"
     },
     "user_tz": -420
    },
    "id": "kbE_rigq1pft",
    "outputId": "60892de6-93e1-46ff-8337-3250ea706063"
   },
   "outputs": [
    {
     "name": "stdout",
     "output_type": "stream",
     "text": [
      "2025\n",
      "nam khong nhuan\n"
     ]
    }
   ],
   "source": [
    "# bai8\n",
    "n=int(input())\n",
    "if (n%400==0) or (n%4==0 and n%100!=0):\n",
    "  print(\"nam nhuan\")\n",
    "else:\n",
    "  print(\"nam khong nhuan\")"
   ]
  },
  {
   "cell_type": "code",
   "execution_count": null,
   "metadata": {
    "colab": {
     "base_uri": "https://localhost:8080/"
    },
    "executionInfo": {
     "elapsed": 1176,
     "status": "ok",
     "timestamp": 1758371843026,
     "user": {
      "displayName": "Bùi Quang Chung",
      "userId": "07909724792779520150"
     },
     "user_tz": -420
    },
    "id": "U443qtssuiuC",
    "outputId": "423b889c-bde6-40d7-a49b-5ee82e8d9684"
   },
   "outputs": [
    {
     "name": "stdout",
     "output_type": "stream",
     "text": [
      "6\n",
      "Sáu\n"
     ]
    }
   ],
   "source": [
    "# bai9\n",
    "a=int(input())\n",
    "match a:\n",
    "  case 0:\n",
    "    print(\"Không\")\n",
    "  case 1:\n",
    "    print(\"Một\")\n",
    "  case 2:\n",
    "    print(\"Hai\")\n",
    "  case 3:\n",
    "    print(\"Ba\")\n",
    "  case 4:print(\"Bốn\")\n",
    "  case 5:print(\"Năm\")\n",
    "  case 6:print(\"Sáu\")\n",
    "  case 7:print(\"Bảy\")\n",
    "  case 8:print(\"Tám\")\n",
    "  case 9:print(\"Chín\")\n",
    "  case 10:print(\"Mười\")\n",
    "\n",
    "\n"
   ]
  },
  {
   "cell_type": "code",
   "execution_count": null,
   "metadata": {
    "colab": {
     "base_uri": "https://localhost:8080/"
    },
    "executionInfo": {
     "elapsed": 3063,
     "status": "ok",
     "timestamp": 1758371918745,
     "user": {
      "displayName": "Bùi Quang Chung",
      "userId": "07909724792779520150"
     },
     "user_tz": -420
    },
    "id": "PnlTksH8IQYa",
    "outputId": "2006d205-fc48-4fdc-99f5-9cb548395901"
   },
   "outputs": [
    {
     "name": "stdout",
     "output_type": "stream",
     "text": [
      "10\n",
      "Qua môn\n"
     ]
    }
   ],
   "source": [
    "# bai10\n",
    "a=int(input())\n",
    "if(a>=4):print(\"Qua môn\")\n",
    "else:print(\"Học lại\")"
   ]
  },
  {
   "cell_type": "code",
   "execution_count": 2,
   "metadata": {
    "colab": {
     "base_uri": "https://localhost:8080/"
    },
    "executionInfo": {
     "elapsed": 10137,
     "status": "ok",
     "timestamp": 1758590856023,
     "user": {
      "displayName": "Bùi Quang Chung",
      "userId": "07909724792779520150"
     },
     "user_tz": -420
    },
    "id": "TqRjDRPzIiZ_",
    "outputId": "15f1d8c3-ea8d-4005-c980-2da51c0e6977"
   },
   "outputs": [
    {
     "name": "stdout",
     "output_type": "stream",
     "text": [
      "2024\n",
      "k du tuoi\n"
     ]
    }
   ],
   "source": [
    "# bai11\n",
    "a=int(input())\n",
    "if 2025-a>=18:\n",
    "  print(\"du tuoi\")\n",
    "else:\n",
    "  print(\"k du tuoi\")"
   ]
  },
  {
   "cell_type": "code",
   "execution_count": 9,
   "metadata": {
    "colab": {
     "base_uri": "https://localhost:8080/"
    },
    "executionInfo": {
     "elapsed": 3565,
     "status": "ok",
     "timestamp": 1758593640154,
     "user": {
      "displayName": "Bùi Quang Chung",
      "userId": "07909724792779520150"
     },
     "user_tz": -420
    },
    "id": "EMqWVEuCSgd1",
    "outputId": "2130e102-320e-43a1-a53f-3ed1119c71a9"
   },
   "outputs": [
    {
     "name": "stdout",
     "output_type": "stream",
     "text": [
      "29 2 2022\n",
      "nhập lỗi\n"
     ]
    }
   ],
   "source": [
    "# nhập ngày tháng hợp lệ\n",
    "a,b,c=map(int,input().split())\n",
    "if(c%400==0 or (c%4==0 and c%100!=0)):\n",
    "  if(b in (1,3,5,7,8,10,12)):\n",
    "    if(a<=0 or a>=32): print(\"lỗi\")\n",
    "    else: print(a,b,c,sep='/')\n",
    "  elif b==2 :\n",
    "    if(a>0 and a<30): print(a,b,c,sep='/')\n",
    "    else : print(\"nhập lỗi\")\n",
    "  elif (b in (4,6,9,11) ):\n",
    "\n",
    "\n",
    "\n",
    "    if(a>0 and a<31):print(a,b,c,sep='/')\n",
    "    else: print(\"nhập lỗi\")\n",
    "  else: print(\"nhập lỗi\")\n",
    "else:\n",
    "  if(b in (1,3,5,7,8,10,12)):\n",
    "    if(a<=0 or a>=32): print(\"lỗi\")\n",
    "    else: print(a,b,c,sep='/')\n",
    "  elif b==2 :\n",
    "    if(a>0 and a<29): print(a,b,c,sep='/')\n",
    "    else : print(\"nhập lỗi\")\n",
    "  elif (b in (4,6,9,11) ):\n",
    "    if(a>0 and a<31):print(a,b,c,sep='/')\n",
    "    else: print(\"nhập lỗi\")\n",
    "  else:print(\"nhập lỗi\")"
   ]
  }
 ],
 "metadata": {
  "colab": {
   "authorship_tag": "ABX9TyNRNUMaja1LRKHWzh5iv2hF",
   "provenance": []
  },
  "kernelspec": {
   "display_name": "Python 3",
   "name": "python3"
  },
  "language_info": {
   "codemirror_mode": {
    "name": "ipython",
    "version": 3
   },
   "file_extension": ".py",
   "mimetype": "text/x-python",
   "name": "python",
   "nbconvert_exporter": "python",
   "pygments_lexer": "ipython3",
   "version": "3.13.7"
  }
 },
 "nbformat": 4,
 "nbformat_minor": 0
}
