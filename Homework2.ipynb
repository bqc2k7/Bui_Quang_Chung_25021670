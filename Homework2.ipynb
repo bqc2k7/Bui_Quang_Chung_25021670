{
 "cells": [
  {
   "cell_type": "markdown",
   "id": "e3451f7c",
   "metadata": {},
   "source": [
    "bài 1: Nhập vào 2 cạnh của một hình chữ nhật. In ra màn hình diện tích và chu vi của nó."
   ]
  },
  {
   "cell_type": "code",
   "execution_count": null,
   "id": "706e3074",
   "metadata": {},
   "outputs": [
    {
     "name": "stdout",
     "output_type": "stream",
     "text": [
      "276\n",
      "70\n"
     ]
    }
   ],
   "source": [
    "a,b=map(int,input().split())\n",
    "print(a*b)\n",
    "print(2*(a+b))\n"
   ]
  },
  {
   "cell_type": "markdown",
   "id": "8bac9b9b",
   "metadata": {},
   "source": [
    "Bài 2: Nhập vào bán kính của hình tròn. In ra màn hình diện tích và chu vi của \n",
    "nó. "
   ]
  },
  {
   "cell_type": "code",
   "execution_count": null,
   "id": "f8736e1c",
   "metadata": {},
   "outputs": [
    {
     "name": "stdout",
     "output_type": "stream",
     "text": [
      "12.56Chu vi la 12.56\n"
     ]
    }
   ],
   "source": [
    "a=int(input())\n",
    "print(f'{2*3.14*a} Chu vi la {3.14*a*a}')"
   ]
  },
  {
   "cell_type": "markdown",
   "id": "927768ab",
   "metadata": {},
   "source": [
    "Bài 3 : Tính tam giác: Nhâp vào ba số a,b,c bất kì. Kiểm tra xem nó có thể là \n",
    "độ dài ba cạnh hay không, nếu  không thì in  ra màn  hình  'Khong la ba  canh \n",
    "cua mot tam  giac'. Ngược lại, kiểm tra xem nó là tam giác gì: Đều, Cân, \n",
    "Vuông, hay Tam giác thường. Tính diện tích, chu vi của tam giác và in ra màn \n",
    "hình."
   ]
  },
  {
   "cell_type": "code",
   "execution_count": null,
   "id": "7c1390c5",
   "metadata": {},
   "outputs": [],
   "source": [
    "a,b,c=map(float,input().split())\n",
    "if a+b>c and a+c>b and b+c>a:\n",
    "    if(a==b==c):\n",
    "        print(\"Tam giac deu\")\n",
    "    elif(a==b or b==c or a==c):\n",
    "        print(\"Tam giac can\")\n",
    "    if(a*a+b*b==c*c or a*a+c*c==b*b or b*b+c*c==a*a):\n",
    "        print(\"Tam giac vuong\")\n",
    "    else:\n",
    "        print(\"Tam giac thuong\")\n",
    "else:\n",
    "    print(\"Khong la ba canh cua mot tam giac\")"
   ]
  },
  {
   "cell_type": "markdown",
   "id": "184f03bd",
   "metadata": {},
   "source": [
    "Bài 4: Viết chương trình giải phương trình bậc 1 (ax + b = 0)  "
   ]
  },
  {
   "cell_type": "code",
   "execution_count": null,
   "id": "f20da3c5",
   "metadata": {},
   "outputs": [
    {
     "name": "stdout",
     "output_type": "stream",
     "text": [
      "phuong trinh co nghiem la x=-2.0\n"
     ]
    }
   ],
   "source": [
    "a,b=map(float,input().split())\n",
    "if(a==0):\n",
    "    if(b==0): print(\"phuong trinh co vo so nghiem\")\n",
    "    else: print(\"phuong trinh vo nghiem\")\n",
    "else:\n",
    "    print(f\"phuong trinh co nghiem la x = {(-b/a):.1f}\")"
   ]
  },
  {
   "cell_type": "markdown",
   "id": "a5c99782",
   "metadata": {},
   "source": [
    "Bài 5: Viết chương trình giải phương trình bậc 2 (ax2 + bx + c = 0)"
   ]
  },
  {
   "cell_type": "code",
   "execution_count": 5,
   "id": "808d3648",
   "metadata": {},
   "outputs": [
    {
     "name": "stdout",
     "output_type": "stream",
     "text": [
      "phuong trinh co hai nghiem lan luot la x1 =  1.0 va x2 = -3.0 \n"
     ]
    }
   ],
   "source": [
    "a,b,c=map(float,input().split())\n",
    "if a==0:\n",
    "    if(b==0):\n",
    "        if(c==0): print(\"phuong trinh co vo so nghiem\")\n",
    "        else: print(\"phuong trinh vo nghiem\")\n",
    "    else:\n",
    "        print(f\"phuong trinh co mot nghiem la x = {(-c/b):.1f}\")\n",
    "else:\n",
    "    dt=b**2-4*a*c\n",
    "    if dt>0:\n",
    "        x1=(-b+dt**0.5)/(2*a)\n",
    "        x2=(-b-dt**0.5)/(2*a)\n",
    "        print(f\"phuong trinh co hai nghiem lan luot la x1 =  {x1:.1f} va x2 = {x2:.1f} \")\n",
    "    elif dt==0:\n",
    "        print(f\"phuong trinh co nghiem kep la x = {-b/(2*a):.1f}\")\n",
    "    else:\n",
    "        print(\"phuong trinh vo nghiem\")"
   ]
  },
  {
   "cell_type": "markdown",
   "id": "97ff3326",
   "metadata": {},
   "source": [
    "Bài 6: Tìm giá trị lớn nhất trong 4 số a, b, c, d (a, b, c, được nhập từ bàn phím). "
   ]
  },
  {
   "cell_type": "code",
   "execution_count": 11,
   "id": "a0c70129",
   "metadata": {},
   "outputs": [
    {
     "name": "stdout",
     "output_type": "stream",
     "text": [
      "so lon nhat trong day la 123213213\n"
     ]
    }
   ],
   "source": [
    "a,b,c,d=map(int,input().split())\n",
    "x=[b,c,d]\n",
    "y=a\n",
    "for i in range(0,2):\n",
    "    if(y<x[i]): y=x[i]\n",
    "print(f\"so lon nhat trong day la {y}\")\n"
   ]
  },
  {
   "cell_type": "markdown",
   "id": "fd87c973",
   "metadata": {},
   "source": [
    "Bài 7: Tìm giá trị nhỏ nhất trong 4 số a, b, c, d (a, b, c, được nhập từ bàn phím). "
   ]
  },
  {
   "cell_type": "code",
   "execution_count": 13,
   "id": "0ad44046",
   "metadata": {},
   "outputs": [
    {
     "name": "stdout",
     "output_type": "stream",
     "text": [
      "so nho nhat trong day la 1\n"
     ]
    }
   ],
   "source": [
    "a,b,c,d=map(int,input().split())\n",
    "x=[b,c,d]\n",
    "y=a\n",
    "for i in range(0,2):\n",
    "    if(y>x[i]): y=x[i]\n",
    "print(f\"so nho nhat trong day la {y}\")"
   ]
  },
  {
   "cell_type": "markdown",
   "id": "85f4d547",
   "metadata": {},
   "source": [
    "Bài 8: Giải hệ phương trình tuyến tính: \n",
    "ax  by  m \n",
    "cx  dy  n"
   ]
  },
  {
   "cell_type": "code",
   "execution_count": 14,
   "id": "05e64571",
   "metadata": {},
   "outputs": [
    {
     "name": "stdout",
     "output_type": "stream",
     "text": [
      "nghiem cua phuong trinh tuyen tinh la x = 2.0 va y = -1.0\n"
     ]
    }
   ],
   "source": [
    "a,b,c,d,m,n=map(float,input().split())\n",
    "x=(m*d-n*b)/(a*d-c*b)\n",
    "y=(n-c*x)/d\n",
    "print(f\"nghiem cua phuong trinh tuyen tinh la x = {x} va y = {y}\")"
   ]
  },
  {
   "cell_type": "markdown",
   "id": "dd4eddab",
   "metadata": {},
   "source": [
    "Bài 9: Nhập vào thời gian 1 công việc nào đó là x giây. Hãy chuyển đổi và viết \n",
    "ra màn hình số thời gian trên dưới dạng bằng bao nhiêu giờ, bao nhiêu phút, bao \n",
    "nhiêu giây.  "
   ]
  },
  {
   "cell_type": "code",
   "execution_count": 22,
   "id": "b86266c0",
   "metadata": {},
   "outputs": [
    {
     "name": "stdout",
     "output_type": "stream",
     "text": [
      "1 gio 22 phut 33 giay\n"
     ]
    }
   ],
   "source": [
    "s=int(input())\n",
    "gio=s//3600\n",
    "s%=3600\n",
    "phut=s//60\n",
    "s%=60\n",
    "print(f\"{gio} gio {phut} phut {s} giay\")"
   ]
  },
  {
   "cell_type": "markdown",
   "id": "5b29c41a",
   "metadata": {},
   "source": [
    "Bài 10: Nhập vào tâm và bán kính của một đường tròn. Sau đó nhập vào một \n",
    "điểm A(x, y) bất kì và kiểm tra xem nó có thuộc đường tròn hay không?"
   ]
  },
  {
   "cell_type": "code",
   "execution_count": 28,
   "id": "07f9ede5",
   "metadata": {},
   "outputs": [
    {
     "name": "stdout",
     "output_type": "stream",
     "text": [
      "diem A thuoc duong tron\n"
     ]
    }
   ],
   "source": [
    "from math import isclose\n",
    "a,b=map(float,input(\"Nhap toa do tam duong tron\").split())\n",
    "r=float(input(\"Nhap ban kinh duong tron\"))\n",
    "x,y = map (float, input(\"nhap toa do diem A\").split())\n",
    "d=((a-x)**2+(b-y)**2)**0.5\n",
    "if(isclose(r,d)): print(\"diem A thuoc duong tron\")\n",
    "else: print(\"diem A khong thuoc duong tron \")"
   ]
  },
  {
   "cell_type": "markdown",
   "id": "f3538f55",
   "metadata": {},
   "source": [
    "Bài 11: Tính x mu y (Với x, y là số thực). "
   ]
  },
  {
   "cell_type": "code",
   "execution_count": 29,
   "id": "68f66406",
   "metadata": {},
   "outputs": [
    {
     "name": "stdout",
     "output_type": "stream",
     "text": [
      "31.489135652454948\n"
     ]
    }
   ],
   "source": [
    "\n",
    "x,y=map(float,input().split())\n",
    "print(x**y)"
   ]
  }
 ],
 "metadata": {
  "kernelspec": {
   "display_name": "Python 3",
   "language": "python",
   "name": "python3"
  },
  "language_info": {
   "codemirror_mode": {
    "name": "ipython",
    "version": 3
   },
   "file_extension": ".py",
   "mimetype": "text/x-python",
   "name": "python",
   "nbconvert_exporter": "python",
   "pygments_lexer": "ipython3",
   "version": "3.13.7"
  }
 },
 "nbformat": 4,
 "nbformat_minor": 5
}
