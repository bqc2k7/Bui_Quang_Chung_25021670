{
 "cells": [
  {
   "cell_type": "code",
   "execution_count": 1,
   "id": "4c05b87a-2470-415c-8c0b-d6fe9a1062f9",
   "metadata": {},
   "outputs": [
    {
     "name": "stdout",
     "output_type": "stream",
     "text": [
      "Hello World\n"
     ]
    }
   ],
   "source": [
    "# w2a1\n",
    "print(\"Hello World\")"
   ]
  },
  {
   "cell_type": "code",
   "execution_count": null,
   "id": "2b0fb7e5-20b0-42ca-95ea-04a09bbc03fb",
   "metadata": {},
   "outputs": [],
   "source": [
    "# W2a2\n",
    "# a=input() #mac dinh la chuoi\n",
    "# b=input()\n",
    "# c=a+b #phep cong 2 chuoi\n",
    "# print(c)\n",
    "so1=int(input())\n",
    "so2=int(input())\n",
    "tong=so1+so2\n",
    "print(tong)\n",
    "\n",
    "\n",
    "\n"
   ]
  }
 ],
 "metadata": {
  "kernelspec": {
   "display_name": "Python 3",
   "language": "python",
   "name": "python3"
  },
  "language_info": {
   "codemirror_mode": {
    "name": "ipython",
    "version": 3
   },
   "file_extension": ".py",
   "mimetype": "text/x-python",
   "name": "python",
   "nbconvert_exporter": "python",
   "pygments_lexer": "ipython3",
   "version": "3.13.7"
  }
 },
 "nbformat": 4,
 "nbformat_minor": 5
}
